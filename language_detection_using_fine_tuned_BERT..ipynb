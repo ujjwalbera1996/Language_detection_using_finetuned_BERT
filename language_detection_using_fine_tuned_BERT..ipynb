{
  "metadata": {
    "kernelspec": {
      "display_name": "Python 3",
      "name": "python3"
    },
    "language_info": {
      "name": "python",
      "version": "3.7.12",
      "mimetype": "text/x-python",
      "codemirror_mode": {
        "name": "ipython",
        "version": 3
      },
      "pygments_lexer": "ipython3",
      "nbconvert_exporter": "python",
      "file_extension": ".py"
    },
    "colab": {
      "provenance": [],
      "gpuType": "T4"
    },
    "accelerator": "GPU",
    "widgets": {
      "application/vnd.jupyter.widget-state+json": {
        "d11a7d1a12d647e2a7e255c3dcae3899": {
          "model_module": "@jupyter-widgets/controls",
          "model_name": "HBoxModel",
          "model_module_version": "1.5.0",
          "state": {
            "_dom_classes": [],
            "_model_module": "@jupyter-widgets/controls",
            "_model_module_version": "1.5.0",
            "_model_name": "HBoxModel",
            "_view_count": null,
            "_view_module": "@jupyter-widgets/controls",
            "_view_module_version": "1.5.0",
            "_view_name": "HBoxView",
            "box_style": "",
            "children": [
              "IPY_MODEL_78eb3f2258fc4e1bb49344ae58c200f0",
              "IPY_MODEL_82fd47eec77a432ba1f330c33d17dbc9",
              "IPY_MODEL_36bcca616dee454dbb8beeea95ef469b"
            ],
            "layout": "IPY_MODEL_70249fbcf6f94f91a0af0c56aea1bf6c"
          }
        },
        "78eb3f2258fc4e1bb49344ae58c200f0": {
          "model_module": "@jupyter-widgets/controls",
          "model_name": "HTMLModel",
          "model_module_version": "1.5.0",
          "state": {
            "_dom_classes": [],
            "_model_module": "@jupyter-widgets/controls",
            "_model_module_version": "1.5.0",
            "_model_name": "HTMLModel",
            "_view_count": null,
            "_view_module": "@jupyter-widgets/controls",
            "_view_module_version": "1.5.0",
            "_view_name": "HTMLView",
            "description": "",
            "description_tooltip": null,
            "layout": "IPY_MODEL_efc9f3ad86534dc8b89054488125a03c",
            "placeholder": "​",
            "style": "IPY_MODEL_b19c2ac2006d4204bdbd119a48443bb0",
            "value": "Downloading (…)okenizer_config.json: 100%"
          }
        },
        "82fd47eec77a432ba1f330c33d17dbc9": {
          "model_module": "@jupyter-widgets/controls",
          "model_name": "FloatProgressModel",
          "model_module_version": "1.5.0",
          "state": {
            "_dom_classes": [],
            "_model_module": "@jupyter-widgets/controls",
            "_model_module_version": "1.5.0",
            "_model_name": "FloatProgressModel",
            "_view_count": null,
            "_view_module": "@jupyter-widgets/controls",
            "_view_module_version": "1.5.0",
            "_view_name": "ProgressView",
            "bar_style": "success",
            "description": "",
            "description_tooltip": null,
            "layout": "IPY_MODEL_f050240e6fb14ee99d5c1d5ddffe18f0",
            "max": 502,
            "min": 0,
            "orientation": "horizontal",
            "style": "IPY_MODEL_2e3f964433024973a246e4aec0ff74f8",
            "value": 502
          }
        },
        "36bcca616dee454dbb8beeea95ef469b": {
          "model_module": "@jupyter-widgets/controls",
          "model_name": "HTMLModel",
          "model_module_version": "1.5.0",
          "state": {
            "_dom_classes": [],
            "_model_module": "@jupyter-widgets/controls",
            "_model_module_version": "1.5.0",
            "_model_name": "HTMLModel",
            "_view_count": null,
            "_view_module": "@jupyter-widgets/controls",
            "_view_module_version": "1.5.0",
            "_view_name": "HTMLView",
            "description": "",
            "description_tooltip": null,
            "layout": "IPY_MODEL_3a5e561c8e8d4c7abeba910dbf6234c8",
            "placeholder": "​",
            "style": "IPY_MODEL_d04ed2503c2540e0a2b387453a8469be",
            "value": " 502/502 [00:00&lt;00:00, 32.6kB/s]"
          }
        },
        "70249fbcf6f94f91a0af0c56aea1bf6c": {
          "model_module": "@jupyter-widgets/base",
          "model_name": "LayoutModel",
          "model_module_version": "1.2.0",
          "state": {
            "_model_module": "@jupyter-widgets/base",
            "_model_module_version": "1.2.0",
            "_model_name": "LayoutModel",
            "_view_count": null,
            "_view_module": "@jupyter-widgets/base",
            "_view_module_version": "1.2.0",
            "_view_name": "LayoutView",
            "align_content": null,
            "align_items": null,
            "align_self": null,
            "border": null,
            "bottom": null,
            "display": null,
            "flex": null,
            "flex_flow": null,
            "grid_area": null,
            "grid_auto_columns": null,
            "grid_auto_flow": null,
            "grid_auto_rows": null,
            "grid_column": null,
            "grid_gap": null,
            "grid_row": null,
            "grid_template_areas": null,
            "grid_template_columns": null,
            "grid_template_rows": null,
            "height": null,
            "justify_content": null,
            "justify_items": null,
            "left": null,
            "margin": null,
            "max_height": null,
            "max_width": null,
            "min_height": null,
            "min_width": null,
            "object_fit": null,
            "object_position": null,
            "order": null,
            "overflow": null,
            "overflow_x": null,
            "overflow_y": null,
            "padding": null,
            "right": null,
            "top": null,
            "visibility": null,
            "width": null
          }
        },
        "efc9f3ad86534dc8b89054488125a03c": {
          "model_module": "@jupyter-widgets/base",
          "model_name": "LayoutModel",
          "model_module_version": "1.2.0",
          "state": {
            "_model_module": "@jupyter-widgets/base",
            "_model_module_version": "1.2.0",
            "_model_name": "LayoutModel",
            "_view_count": null,
            "_view_module": "@jupyter-widgets/base",
            "_view_module_version": "1.2.0",
            "_view_name": "LayoutView",
            "align_content": null,
            "align_items": null,
            "align_self": null,
            "border": null,
            "bottom": null,
            "display": null,
            "flex": null,
            "flex_flow": null,
            "grid_area": null,
            "grid_auto_columns": null,
            "grid_auto_flow": null,
            "grid_auto_rows": null,
            "grid_column": null,
            "grid_gap": null,
            "grid_row": null,
            "grid_template_areas": null,
            "grid_template_columns": null,
            "grid_template_rows": null,
            "height": null,
            "justify_content": null,
            "justify_items": null,
            "left": null,
            "margin": null,
            "max_height": null,
            "max_width": null,
            "min_height": null,
            "min_width": null,
            "object_fit": null,
            "object_position": null,
            "order": null,
            "overflow": null,
            "overflow_x": null,
            "overflow_y": null,
            "padding": null,
            "right": null,
            "top": null,
            "visibility": null,
            "width": null
          }
        },
        "b19c2ac2006d4204bdbd119a48443bb0": {
          "model_module": "@jupyter-widgets/controls",
          "model_name": "DescriptionStyleModel",
          "model_module_version": "1.5.0",
          "state": {
            "_model_module": "@jupyter-widgets/controls",
            "_model_module_version": "1.5.0",
            "_model_name": "DescriptionStyleModel",
            "_view_count": null,
            "_view_module": "@jupyter-widgets/base",
            "_view_module_version": "1.2.0",
            "_view_name": "StyleView",
            "description_width": ""
          }
        },
        "f050240e6fb14ee99d5c1d5ddffe18f0": {
          "model_module": "@jupyter-widgets/base",
          "model_name": "LayoutModel",
          "model_module_version": "1.2.0",
          "state": {
            "_model_module": "@jupyter-widgets/base",
            "_model_module_version": "1.2.0",
            "_model_name": "LayoutModel",
            "_view_count": null,
            "_view_module": "@jupyter-widgets/base",
            "_view_module_version": "1.2.0",
            "_view_name": "LayoutView",
            "align_content": null,
            "align_items": null,
            "align_self": null,
            "border": null,
            "bottom": null,
            "display": null,
            "flex": null,
            "flex_flow": null,
            "grid_area": null,
            "grid_auto_columns": null,
            "grid_auto_flow": null,
            "grid_auto_rows": null,
            "grid_column": null,
            "grid_gap": null,
            "grid_row": null,
            "grid_template_areas": null,
            "grid_template_columns": null,
            "grid_template_rows": null,
            "height": null,
            "justify_content": null,
            "justify_items": null,
            "left": null,
            "margin": null,
            "max_height": null,
            "max_width": null,
            "min_height": null,
            "min_width": null,
            "object_fit": null,
            "object_position": null,
            "order": null,
            "overflow": null,
            "overflow_x": null,
            "overflow_y": null,
            "padding": null,
            "right": null,
            "top": null,
            "visibility": null,
            "width": null
          }
        },
        "2e3f964433024973a246e4aec0ff74f8": {
          "model_module": "@jupyter-widgets/controls",
          "model_name": "ProgressStyleModel",
          "model_module_version": "1.5.0",
          "state": {
            "_model_module": "@jupyter-widgets/controls",
            "_model_module_version": "1.5.0",
            "_model_name": "ProgressStyleModel",
            "_view_count": null,
            "_view_module": "@jupyter-widgets/base",
            "_view_module_version": "1.2.0",
            "_view_name": "StyleView",
            "bar_color": null,
            "description_width": ""
          }
        },
        "3a5e561c8e8d4c7abeba910dbf6234c8": {
          "model_module": "@jupyter-widgets/base",
          "model_name": "LayoutModel",
          "model_module_version": "1.2.0",
          "state": {
            "_model_module": "@jupyter-widgets/base",
            "_model_module_version": "1.2.0",
            "_model_name": "LayoutModel",
            "_view_count": null,
            "_view_module": "@jupyter-widgets/base",
            "_view_module_version": "1.2.0",
            "_view_name": "LayoutView",
            "align_content": null,
            "align_items": null,
            "align_self": null,
            "border": null,
            "bottom": null,
            "display": null,
            "flex": null,
            "flex_flow": null,
            "grid_area": null,
            "grid_auto_columns": null,
            "grid_auto_flow": null,
            "grid_auto_rows": null,
            "grid_column": null,
            "grid_gap": null,
            "grid_row": null,
            "grid_template_areas": null,
            "grid_template_columns": null,
            "grid_template_rows": null,
            "height": null,
            "justify_content": null,
            "justify_items": null,
            "left": null,
            "margin": null,
            "max_height": null,
            "max_width": null,
            "min_height": null,
            "min_width": null,
            "object_fit": null,
            "object_position": null,
            "order": null,
            "overflow": null,
            "overflow_x": null,
            "overflow_y": null,
            "padding": null,
            "right": null,
            "top": null,
            "visibility": null,
            "width": null
          }
        },
        "d04ed2503c2540e0a2b387453a8469be": {
          "model_module": "@jupyter-widgets/controls",
          "model_name": "DescriptionStyleModel",
          "model_module_version": "1.5.0",
          "state": {
            "_model_module": "@jupyter-widgets/controls",
            "_model_module_version": "1.5.0",
            "_model_name": "DescriptionStyleModel",
            "_view_count": null,
            "_view_module": "@jupyter-widgets/base",
            "_view_module_version": "1.2.0",
            "_view_name": "StyleView",
            "description_width": ""
          }
        },
        "d4dfb323f04f4cd1801d6720f9980476": {
          "model_module": "@jupyter-widgets/controls",
          "model_name": "HBoxModel",
          "model_module_version": "1.5.0",
          "state": {
            "_dom_classes": [],
            "_model_module": "@jupyter-widgets/controls",
            "_model_module_version": "1.5.0",
            "_model_name": "HBoxModel",
            "_view_count": null,
            "_view_module": "@jupyter-widgets/controls",
            "_view_module_version": "1.5.0",
            "_view_name": "HBoxView",
            "box_style": "",
            "children": [
              "IPY_MODEL_342678d87a8b46c7b4221e2e2d7db1e4",
              "IPY_MODEL_7828027f18944e98a1ad321639fd1b87",
              "IPY_MODEL_bb69c3fd9c584fa49e87f9c5f48d575e"
            ],
            "layout": "IPY_MODEL_09180d789e3b4e00969330b888e2d397"
          }
        },
        "342678d87a8b46c7b4221e2e2d7db1e4": {
          "model_module": "@jupyter-widgets/controls",
          "model_name": "HTMLModel",
          "model_module_version": "1.5.0",
          "state": {
            "_dom_classes": [],
            "_model_module": "@jupyter-widgets/controls",
            "_model_module_version": "1.5.0",
            "_model_name": "HTMLModel",
            "_view_count": null,
            "_view_module": "@jupyter-widgets/controls",
            "_view_module_version": "1.5.0",
            "_view_name": "HTMLView",
            "description": "",
            "description_tooltip": null,
            "layout": "IPY_MODEL_6716d7b681594328851cb1b3828ab5e4",
            "placeholder": "​",
            "style": "IPY_MODEL_baecb74959c34a61b6e7af429a8c307a",
            "value": "Downloading (…)tencepiece.bpe.model: 100%"
          }
        },
        "7828027f18944e98a1ad321639fd1b87": {
          "model_module": "@jupyter-widgets/controls",
          "model_name": "FloatProgressModel",
          "model_module_version": "1.5.0",
          "state": {
            "_dom_classes": [],
            "_model_module": "@jupyter-widgets/controls",
            "_model_module_version": "1.5.0",
            "_model_name": "FloatProgressModel",
            "_view_count": null,
            "_view_module": "@jupyter-widgets/controls",
            "_view_module_version": "1.5.0",
            "_view_name": "ProgressView",
            "bar_style": "success",
            "description": "",
            "description_tooltip": null,
            "layout": "IPY_MODEL_b1611ef84d4b424f87429b4c8e19ca3d",
            "max": 5069051,
            "min": 0,
            "orientation": "horizontal",
            "style": "IPY_MODEL_a3e6276247d94296b4e24c5516facbe7",
            "value": 5069051
          }
        },
        "bb69c3fd9c584fa49e87f9c5f48d575e": {
          "model_module": "@jupyter-widgets/controls",
          "model_name": "HTMLModel",
          "model_module_version": "1.5.0",
          "state": {
            "_dom_classes": [],
            "_model_module": "@jupyter-widgets/controls",
            "_model_module_version": "1.5.0",
            "_model_name": "HTMLModel",
            "_view_count": null,
            "_view_module": "@jupyter-widgets/controls",
            "_view_module_version": "1.5.0",
            "_view_name": "HTMLView",
            "description": "",
            "description_tooltip": null,
            "layout": "IPY_MODEL_25ce760dee214851b25a7ccdc694f9dc",
            "placeholder": "​",
            "style": "IPY_MODEL_36763f3565e74d88bb777aa8fffbaa84",
            "value": " 5.07M/5.07M [00:00&lt;00:00, 57.1MB/s]"
          }
        },
        "09180d789e3b4e00969330b888e2d397": {
          "model_module": "@jupyter-widgets/base",
          "model_name": "LayoutModel",
          "model_module_version": "1.2.0",
          "state": {
            "_model_module": "@jupyter-widgets/base",
            "_model_module_version": "1.2.0",
            "_model_name": "LayoutModel",
            "_view_count": null,
            "_view_module": "@jupyter-widgets/base",
            "_view_module_version": "1.2.0",
            "_view_name": "LayoutView",
            "align_content": null,
            "align_items": null,
            "align_self": null,
            "border": null,
            "bottom": null,
            "display": null,
            "flex": null,
            "flex_flow": null,
            "grid_area": null,
            "grid_auto_columns": null,
            "grid_auto_flow": null,
            "grid_auto_rows": null,
            "grid_column": null,
            "grid_gap": null,
            "grid_row": null,
            "grid_template_areas": null,
            "grid_template_columns": null,
            "grid_template_rows": null,
            "height": null,
            "justify_content": null,
            "justify_items": null,
            "left": null,
            "margin": null,
            "max_height": null,
            "max_width": null,
            "min_height": null,
            "min_width": null,
            "object_fit": null,
            "object_position": null,
            "order": null,
            "overflow": null,
            "overflow_x": null,
            "overflow_y": null,
            "padding": null,
            "right": null,
            "top": null,
            "visibility": null,
            "width": null
          }
        },
        "6716d7b681594328851cb1b3828ab5e4": {
          "model_module": "@jupyter-widgets/base",
          "model_name": "LayoutModel",
          "model_module_version": "1.2.0",
          "state": {
            "_model_module": "@jupyter-widgets/base",
            "_model_module_version": "1.2.0",
            "_model_name": "LayoutModel",
            "_view_count": null,
            "_view_module": "@jupyter-widgets/base",
            "_view_module_version": "1.2.0",
            "_view_name": "LayoutView",
            "align_content": null,
            "align_items": null,
            "align_self": null,
            "border": null,
            "bottom": null,
            "display": null,
            "flex": null,
            "flex_flow": null,
            "grid_area": null,
            "grid_auto_columns": null,
            "grid_auto_flow": null,
            "grid_auto_rows": null,
            "grid_column": null,
            "grid_gap": null,
            "grid_row": null,
            "grid_template_areas": null,
            "grid_template_columns": null,
            "grid_template_rows": null,
            "height": null,
            "justify_content": null,
            "justify_items": null,
            "left": null,
            "margin": null,
            "max_height": null,
            "max_width": null,
            "min_height": null,
            "min_width": null,
            "object_fit": null,
            "object_position": null,
            "order": null,
            "overflow": null,
            "overflow_x": null,
            "overflow_y": null,
            "padding": null,
            "right": null,
            "top": null,
            "visibility": null,
            "width": null
          }
        },
        "baecb74959c34a61b6e7af429a8c307a": {
          "model_module": "@jupyter-widgets/controls",
          "model_name": "DescriptionStyleModel",
          "model_module_version": "1.5.0",
          "state": {
            "_model_module": "@jupyter-widgets/controls",
            "_model_module_version": "1.5.0",
            "_model_name": "DescriptionStyleModel",
            "_view_count": null,
            "_view_module": "@jupyter-widgets/base",
            "_view_module_version": "1.2.0",
            "_view_name": "StyleView",
            "description_width": ""
          }
        },
        "b1611ef84d4b424f87429b4c8e19ca3d": {
          "model_module": "@jupyter-widgets/base",
          "model_name": "LayoutModel",
          "model_module_version": "1.2.0",
          "state": {
            "_model_module": "@jupyter-widgets/base",
            "_model_module_version": "1.2.0",
            "_model_name": "LayoutModel",
            "_view_count": null,
            "_view_module": "@jupyter-widgets/base",
            "_view_module_version": "1.2.0",
            "_view_name": "LayoutView",
            "align_content": null,
            "align_items": null,
            "align_self": null,
            "border": null,
            "bottom": null,
            "display": null,
            "flex": null,
            "flex_flow": null,
            "grid_area": null,
            "grid_auto_columns": null,
            "grid_auto_flow": null,
            "grid_auto_rows": null,
            "grid_column": null,
            "grid_gap": null,
            "grid_row": null,
            "grid_template_areas": null,
            "grid_template_columns": null,
            "grid_template_rows": null,
            "height": null,
            "justify_content": null,
            "justify_items": null,
            "left": null,
            "margin": null,
            "max_height": null,
            "max_width": null,
            "min_height": null,
            "min_width": null,
            "object_fit": null,
            "object_position": null,
            "order": null,
            "overflow": null,
            "overflow_x": null,
            "overflow_y": null,
            "padding": null,
            "right": null,
            "top": null,
            "visibility": null,
            "width": null
          }
        },
        "a3e6276247d94296b4e24c5516facbe7": {
          "model_module": "@jupyter-widgets/controls",
          "model_name": "ProgressStyleModel",
          "model_module_version": "1.5.0",
          "state": {
            "_model_module": "@jupyter-widgets/controls",
            "_model_module_version": "1.5.0",
            "_model_name": "ProgressStyleModel",
            "_view_count": null,
            "_view_module": "@jupyter-widgets/base",
            "_view_module_version": "1.2.0",
            "_view_name": "StyleView",
            "bar_color": null,
            "description_width": ""
          }
        },
        "25ce760dee214851b25a7ccdc694f9dc": {
          "model_module": "@jupyter-widgets/base",
          "model_name": "LayoutModel",
          "model_module_version": "1.2.0",
          "state": {
            "_model_module": "@jupyter-widgets/base",
            "_model_module_version": "1.2.0",
            "_model_name": "LayoutModel",
            "_view_count": null,
            "_view_module": "@jupyter-widgets/base",
            "_view_module_version": "1.2.0",
            "_view_name": "LayoutView",
            "align_content": null,
            "align_items": null,
            "align_self": null,
            "border": null,
            "bottom": null,
            "display": null,
            "flex": null,
            "flex_flow": null,
            "grid_area": null,
            "grid_auto_columns": null,
            "grid_auto_flow": null,
            "grid_auto_rows": null,
            "grid_column": null,
            "grid_gap": null,
            "grid_row": null,
            "grid_template_areas": null,
            "grid_template_columns": null,
            "grid_template_rows": null,
            "height": null,
            "justify_content": null,
            "justify_items": null,
            "left": null,
            "margin": null,
            "max_height": null,
            "max_width": null,
            "min_height": null,
            "min_width": null,
            "object_fit": null,
            "object_position": null,
            "order": null,
            "overflow": null,
            "overflow_x": null,
            "overflow_y": null,
            "padding": null,
            "right": null,
            "top": null,
            "visibility": null,
            "width": null
          }
        },
        "36763f3565e74d88bb777aa8fffbaa84": {
          "model_module": "@jupyter-widgets/controls",
          "model_name": "DescriptionStyleModel",
          "model_module_version": "1.5.0",
          "state": {
            "_model_module": "@jupyter-widgets/controls",
            "_model_module_version": "1.5.0",
            "_model_name": "DescriptionStyleModel",
            "_view_count": null,
            "_view_module": "@jupyter-widgets/base",
            "_view_module_version": "1.2.0",
            "_view_name": "StyleView",
            "description_width": ""
          }
        },
        "7000fcc0f2e841d995f715cbb9dadbac": {
          "model_module": "@jupyter-widgets/controls",
          "model_name": "HBoxModel",
          "model_module_version": "1.5.0",
          "state": {
            "_dom_classes": [],
            "_model_module": "@jupyter-widgets/controls",
            "_model_module_version": "1.5.0",
            "_model_name": "HBoxModel",
            "_view_count": null,
            "_view_module": "@jupyter-widgets/controls",
            "_view_module_version": "1.5.0",
            "_view_name": "HBoxView",
            "box_style": "",
            "children": [
              "IPY_MODEL_42580b0e8d864028bf8c3867d4f9862a",
              "IPY_MODEL_411bc72f40164b6694e2049641659662",
              "IPY_MODEL_a79d10bda409429c9673fa033299f461"
            ],
            "layout": "IPY_MODEL_18f3bf87838d4df9a04f4f5103d872d2"
          }
        },
        "42580b0e8d864028bf8c3867d4f9862a": {
          "model_module": "@jupyter-widgets/controls",
          "model_name": "HTMLModel",
          "model_module_version": "1.5.0",
          "state": {
            "_dom_classes": [],
            "_model_module": "@jupyter-widgets/controls",
            "_model_module_version": "1.5.0",
            "_model_name": "HTMLModel",
            "_view_count": null,
            "_view_module": "@jupyter-widgets/controls",
            "_view_module_version": "1.5.0",
            "_view_name": "HTMLView",
            "description": "",
            "description_tooltip": null,
            "layout": "IPY_MODEL_ac491cff7640440589f2ae0d4c0b4b41",
            "placeholder": "​",
            "style": "IPY_MODEL_ea42ca138b8a4d9285524f88fb9a17b3",
            "value": "Downloading (…)/main/tokenizer.json: 100%"
          }
        },
        "411bc72f40164b6694e2049641659662": {
          "model_module": "@jupyter-widgets/controls",
          "model_name": "FloatProgressModel",
          "model_module_version": "1.5.0",
          "state": {
            "_dom_classes": [],
            "_model_module": "@jupyter-widgets/controls",
            "_model_module_version": "1.5.0",
            "_model_name": "FloatProgressModel",
            "_view_count": null,
            "_view_module": "@jupyter-widgets/controls",
            "_view_module_version": "1.5.0",
            "_view_name": "ProgressView",
            "bar_style": "success",
            "description": "",
            "description_tooltip": null,
            "layout": "IPY_MODEL_e223b6cf08694ca79334be6b1cf2399c",
            "max": 9081351,
            "min": 0,
            "orientation": "horizontal",
            "style": "IPY_MODEL_825417b4017d44a0a72a131a9539d2aa",
            "value": 9081351
          }
        },
        "a79d10bda409429c9673fa033299f461": {
          "model_module": "@jupyter-widgets/controls",
          "model_name": "HTMLModel",
          "model_module_version": "1.5.0",
          "state": {
            "_dom_classes": [],
            "_model_module": "@jupyter-widgets/controls",
            "_model_module_version": "1.5.0",
            "_model_name": "HTMLModel",
            "_view_count": null,
            "_view_module": "@jupyter-widgets/controls",
            "_view_module_version": "1.5.0",
            "_view_name": "HTMLView",
            "description": "",
            "description_tooltip": null,
            "layout": "IPY_MODEL_eb6b938e700241a09997ca6dea99af71",
            "placeholder": "​",
            "style": "IPY_MODEL_20f629cffa734fc3800e60e985a0e83c",
            "value": " 9.08M/9.08M [00:00&lt;00:00, 35.0MB/s]"
          }
        },
        "18f3bf87838d4df9a04f4f5103d872d2": {
          "model_module": "@jupyter-widgets/base",
          "model_name": "LayoutModel",
          "model_module_version": "1.2.0",
          "state": {
            "_model_module": "@jupyter-widgets/base",
            "_model_module_version": "1.2.0",
            "_model_name": "LayoutModel",
            "_view_count": null,
            "_view_module": "@jupyter-widgets/base",
            "_view_module_version": "1.2.0",
            "_view_name": "LayoutView",
            "align_content": null,
            "align_items": null,
            "align_self": null,
            "border": null,
            "bottom": null,
            "display": null,
            "flex": null,
            "flex_flow": null,
            "grid_area": null,
            "grid_auto_columns": null,
            "grid_auto_flow": null,
            "grid_auto_rows": null,
            "grid_column": null,
            "grid_gap": null,
            "grid_row": null,
            "grid_template_areas": null,
            "grid_template_columns": null,
            "grid_template_rows": null,
            "height": null,
            "justify_content": null,
            "justify_items": null,
            "left": null,
            "margin": null,
            "max_height": null,
            "max_width": null,
            "min_height": null,
            "min_width": null,
            "object_fit": null,
            "object_position": null,
            "order": null,
            "overflow": null,
            "overflow_x": null,
            "overflow_y": null,
            "padding": null,
            "right": null,
            "top": null,
            "visibility": null,
            "width": null
          }
        },
        "ac491cff7640440589f2ae0d4c0b4b41": {
          "model_module": "@jupyter-widgets/base",
          "model_name": "LayoutModel",
          "model_module_version": "1.2.0",
          "state": {
            "_model_module": "@jupyter-widgets/base",
            "_model_module_version": "1.2.0",
            "_model_name": "LayoutModel",
            "_view_count": null,
            "_view_module": "@jupyter-widgets/base",
            "_view_module_version": "1.2.0",
            "_view_name": "LayoutView",
            "align_content": null,
            "align_items": null,
            "align_self": null,
            "border": null,
            "bottom": null,
            "display": null,
            "flex": null,
            "flex_flow": null,
            "grid_area": null,
            "grid_auto_columns": null,
            "grid_auto_flow": null,
            "grid_auto_rows": null,
            "grid_column": null,
            "grid_gap": null,
            "grid_row": null,
            "grid_template_areas": null,
            "grid_template_columns": null,
            "grid_template_rows": null,
            "height": null,
            "justify_content": null,
            "justify_items": null,
            "left": null,
            "margin": null,
            "max_height": null,
            "max_width": null,
            "min_height": null,
            "min_width": null,
            "object_fit": null,
            "object_position": null,
            "order": null,
            "overflow": null,
            "overflow_x": null,
            "overflow_y": null,
            "padding": null,
            "right": null,
            "top": null,
            "visibility": null,
            "width": null
          }
        },
        "ea42ca138b8a4d9285524f88fb9a17b3": {
          "model_module": "@jupyter-widgets/controls",
          "model_name": "DescriptionStyleModel",
          "model_module_version": "1.5.0",
          "state": {
            "_model_module": "@jupyter-widgets/controls",
            "_model_module_version": "1.5.0",
            "_model_name": "DescriptionStyleModel",
            "_view_count": null,
            "_view_module": "@jupyter-widgets/base",
            "_view_module_version": "1.2.0",
            "_view_name": "StyleView",
            "description_width": ""
          }
        },
        "e223b6cf08694ca79334be6b1cf2399c": {
          "model_module": "@jupyter-widgets/base",
          "model_name": "LayoutModel",
          "model_module_version": "1.2.0",
          "state": {
            "_model_module": "@jupyter-widgets/base",
            "_model_module_version": "1.2.0",
            "_model_name": "LayoutModel",
            "_view_count": null,
            "_view_module": "@jupyter-widgets/base",
            "_view_module_version": "1.2.0",
            "_view_name": "LayoutView",
            "align_content": null,
            "align_items": null,
            "align_self": null,
            "border": null,
            "bottom": null,
            "display": null,
            "flex": null,
            "flex_flow": null,
            "grid_area": null,
            "grid_auto_columns": null,
            "grid_auto_flow": null,
            "grid_auto_rows": null,
            "grid_column": null,
            "grid_gap": null,
            "grid_row": null,
            "grid_template_areas": null,
            "grid_template_columns": null,
            "grid_template_rows": null,
            "height": null,
            "justify_content": null,
            "justify_items": null,
            "left": null,
            "margin": null,
            "max_height": null,
            "max_width": null,
            "min_height": null,
            "min_width": null,
            "object_fit": null,
            "object_position": null,
            "order": null,
            "overflow": null,
            "overflow_x": null,
            "overflow_y": null,
            "padding": null,
            "right": null,
            "top": null,
            "visibility": null,
            "width": null
          }
        },
        "825417b4017d44a0a72a131a9539d2aa": {
          "model_module": "@jupyter-widgets/controls",
          "model_name": "ProgressStyleModel",
          "model_module_version": "1.5.0",
          "state": {
            "_model_module": "@jupyter-widgets/controls",
            "_model_module_version": "1.5.0",
            "_model_name": "ProgressStyleModel",
            "_view_count": null,
            "_view_module": "@jupyter-widgets/base",
            "_view_module_version": "1.2.0",
            "_view_name": "StyleView",
            "bar_color": null,
            "description_width": ""
          }
        },
        "eb6b938e700241a09997ca6dea99af71": {
          "model_module": "@jupyter-widgets/base",
          "model_name": "LayoutModel",
          "model_module_version": "1.2.0",
          "state": {
            "_model_module": "@jupyter-widgets/base",
            "_model_module_version": "1.2.0",
            "_model_name": "LayoutModel",
            "_view_count": null,
            "_view_module": "@jupyter-widgets/base",
            "_view_module_version": "1.2.0",
            "_view_name": "LayoutView",
            "align_content": null,
            "align_items": null,
            "align_self": null,
            "border": null,
            "bottom": null,
            "display": null,
            "flex": null,
            "flex_flow": null,
            "grid_area": null,
            "grid_auto_columns": null,
            "grid_auto_flow": null,
            "grid_auto_rows": null,
            "grid_column": null,
            "grid_gap": null,
            "grid_row": null,
            "grid_template_areas": null,
            "grid_template_columns": null,
            "grid_template_rows": null,
            "height": null,
            "justify_content": null,
            "justify_items": null,
            "left": null,
            "margin": null,
            "max_height": null,
            "max_width": null,
            "min_height": null,
            "min_width": null,
            "object_fit": null,
            "object_position": null,
            "order": null,
            "overflow": null,
            "overflow_x": null,
            "overflow_y": null,
            "padding": null,
            "right": null,
            "top": null,
            "visibility": null,
            "width": null
          }
        },
        "20f629cffa734fc3800e60e985a0e83c": {
          "model_module": "@jupyter-widgets/controls",
          "model_name": "DescriptionStyleModel",
          "model_module_version": "1.5.0",
          "state": {
            "_model_module": "@jupyter-widgets/controls",
            "_model_module_version": "1.5.0",
            "_model_name": "DescriptionStyleModel",
            "_view_count": null,
            "_view_module": "@jupyter-widgets/base",
            "_view_module_version": "1.2.0",
            "_view_name": "StyleView",
            "description_width": ""
          }
        },
        "f89691fdf7bf425999f9207d7a18cbc6": {
          "model_module": "@jupyter-widgets/controls",
          "model_name": "HBoxModel",
          "model_module_version": "1.5.0",
          "state": {
            "_dom_classes": [],
            "_model_module": "@jupyter-widgets/controls",
            "_model_module_version": "1.5.0",
            "_model_name": "HBoxModel",
            "_view_count": null,
            "_view_module": "@jupyter-widgets/controls",
            "_view_module_version": "1.5.0",
            "_view_name": "HBoxView",
            "box_style": "",
            "children": [
              "IPY_MODEL_7a3dbd2c938948c3b27cc3b3d0a20633",
              "IPY_MODEL_7b12097ce6dd4543b415ee65b7473690",
              "IPY_MODEL_d9b9936d01d94a939e209f884efb55d8"
            ],
            "layout": "IPY_MODEL_a7009b72f3dd477489b5c679428ab2d7"
          }
        },
        "7a3dbd2c938948c3b27cc3b3d0a20633": {
          "model_module": "@jupyter-widgets/controls",
          "model_name": "HTMLModel",
          "model_module_version": "1.5.0",
          "state": {
            "_dom_classes": [],
            "_model_module": "@jupyter-widgets/controls",
            "_model_module_version": "1.5.0",
            "_model_name": "HTMLModel",
            "_view_count": null,
            "_view_module": "@jupyter-widgets/controls",
            "_view_module_version": "1.5.0",
            "_view_name": "HTMLView",
            "description": "",
            "description_tooltip": null,
            "layout": "IPY_MODEL_f9fe491d8ac5480a8b25ca4c78556e63",
            "placeholder": "​",
            "style": "IPY_MODEL_8caa76f31d6749cfb9ca1e9c1f6b5f6f",
            "value": "Downloading (…)cial_tokens_map.json: 100%"
          }
        },
        "7b12097ce6dd4543b415ee65b7473690": {
          "model_module": "@jupyter-widgets/controls",
          "model_name": "FloatProgressModel",
          "model_module_version": "1.5.0",
          "state": {
            "_dom_classes": [],
            "_model_module": "@jupyter-widgets/controls",
            "_model_module_version": "1.5.0",
            "_model_name": "FloatProgressModel",
            "_view_count": null,
            "_view_module": "@jupyter-widgets/controls",
            "_view_module_version": "1.5.0",
            "_view_name": "ProgressView",
            "bar_style": "success",
            "description": "",
            "description_tooltip": null,
            "layout": "IPY_MODEL_1481c4bb3acd41eeb096b45fdd7366e7",
            "max": 239,
            "min": 0,
            "orientation": "horizontal",
            "style": "IPY_MODEL_227e41ec25c24029b16d28f759de18b0",
            "value": 239
          }
        },
        "d9b9936d01d94a939e209f884efb55d8": {
          "model_module": "@jupyter-widgets/controls",
          "model_name": "HTMLModel",
          "model_module_version": "1.5.0",
          "state": {
            "_dom_classes": [],
            "_model_module": "@jupyter-widgets/controls",
            "_model_module_version": "1.5.0",
            "_model_name": "HTMLModel",
            "_view_count": null,
            "_view_module": "@jupyter-widgets/controls",
            "_view_module_version": "1.5.0",
            "_view_name": "HTMLView",
            "description": "",
            "description_tooltip": null,
            "layout": "IPY_MODEL_9efafe74def24bc3a197ba0e95b94ec7",
            "placeholder": "​",
            "style": "IPY_MODEL_5c7e9573ddb54573a1c1dfc0a657f938",
            "value": " 239/239 [00:00&lt;00:00, 14.5kB/s]"
          }
        },
        "a7009b72f3dd477489b5c679428ab2d7": {
          "model_module": "@jupyter-widgets/base",
          "model_name": "LayoutModel",
          "model_module_version": "1.2.0",
          "state": {
            "_model_module": "@jupyter-widgets/base",
            "_model_module_version": "1.2.0",
            "_model_name": "LayoutModel",
            "_view_count": null,
            "_view_module": "@jupyter-widgets/base",
            "_view_module_version": "1.2.0",
            "_view_name": "LayoutView",
            "align_content": null,
            "align_items": null,
            "align_self": null,
            "border": null,
            "bottom": null,
            "display": null,
            "flex": null,
            "flex_flow": null,
            "grid_area": null,
            "grid_auto_columns": null,
            "grid_auto_flow": null,
            "grid_auto_rows": null,
            "grid_column": null,
            "grid_gap": null,
            "grid_row": null,
            "grid_template_areas": null,
            "grid_template_columns": null,
            "grid_template_rows": null,
            "height": null,
            "justify_content": null,
            "justify_items": null,
            "left": null,
            "margin": null,
            "max_height": null,
            "max_width": null,
            "min_height": null,
            "min_width": null,
            "object_fit": null,
            "object_position": null,
            "order": null,
            "overflow": null,
            "overflow_x": null,
            "overflow_y": null,
            "padding": null,
            "right": null,
            "top": null,
            "visibility": null,
            "width": null
          }
        },
        "f9fe491d8ac5480a8b25ca4c78556e63": {
          "model_module": "@jupyter-widgets/base",
          "model_name": "LayoutModel",
          "model_module_version": "1.2.0",
          "state": {
            "_model_module": "@jupyter-widgets/base",
            "_model_module_version": "1.2.0",
            "_model_name": "LayoutModel",
            "_view_count": null,
            "_view_module": "@jupyter-widgets/base",
            "_view_module_version": "1.2.0",
            "_view_name": "LayoutView",
            "align_content": null,
            "align_items": null,
            "align_self": null,
            "border": null,
            "bottom": null,
            "display": null,
            "flex": null,
            "flex_flow": null,
            "grid_area": null,
            "grid_auto_columns": null,
            "grid_auto_flow": null,
            "grid_auto_rows": null,
            "grid_column": null,
            "grid_gap": null,
            "grid_row": null,
            "grid_template_areas": null,
            "grid_template_columns": null,
            "grid_template_rows": null,
            "height": null,
            "justify_content": null,
            "justify_items": null,
            "left": null,
            "margin": null,
            "max_height": null,
            "max_width": null,
            "min_height": null,
            "min_width": null,
            "object_fit": null,
            "object_position": null,
            "order": null,
            "overflow": null,
            "overflow_x": null,
            "overflow_y": null,
            "padding": null,
            "right": null,
            "top": null,
            "visibility": null,
            "width": null
          }
        },
        "8caa76f31d6749cfb9ca1e9c1f6b5f6f": {
          "model_module": "@jupyter-widgets/controls",
          "model_name": "DescriptionStyleModel",
          "model_module_version": "1.5.0",
          "state": {
            "_model_module": "@jupyter-widgets/controls",
            "_model_module_version": "1.5.0",
            "_model_name": "DescriptionStyleModel",
            "_view_count": null,
            "_view_module": "@jupyter-widgets/base",
            "_view_module_version": "1.2.0",
            "_view_name": "StyleView",
            "description_width": ""
          }
        },
        "1481c4bb3acd41eeb096b45fdd7366e7": {
          "model_module": "@jupyter-widgets/base",
          "model_name": "LayoutModel",
          "model_module_version": "1.2.0",
          "state": {
            "_model_module": "@jupyter-widgets/base",
            "_model_module_version": "1.2.0",
            "_model_name": "LayoutModel",
            "_view_count": null,
            "_view_module": "@jupyter-widgets/base",
            "_view_module_version": "1.2.0",
            "_view_name": "LayoutView",
            "align_content": null,
            "align_items": null,
            "align_self": null,
            "border": null,
            "bottom": null,
            "display": null,
            "flex": null,
            "flex_flow": null,
            "grid_area": null,
            "grid_auto_columns": null,
            "grid_auto_flow": null,
            "grid_auto_rows": null,
            "grid_column": null,
            "grid_gap": null,
            "grid_row": null,
            "grid_template_areas": null,
            "grid_template_columns": null,
            "grid_template_rows": null,
            "height": null,
            "justify_content": null,
            "justify_items": null,
            "left": null,
            "margin": null,
            "max_height": null,
            "max_width": null,
            "min_height": null,
            "min_width": null,
            "object_fit": null,
            "object_position": null,
            "order": null,
            "overflow": null,
            "overflow_x": null,
            "overflow_y": null,
            "padding": null,
            "right": null,
            "top": null,
            "visibility": null,
            "width": null
          }
        },
        "227e41ec25c24029b16d28f759de18b0": {
          "model_module": "@jupyter-widgets/controls",
          "model_name": "ProgressStyleModel",
          "model_module_version": "1.5.0",
          "state": {
            "_model_module": "@jupyter-widgets/controls",
            "_model_module_version": "1.5.0",
            "_model_name": "ProgressStyleModel",
            "_view_count": null,
            "_view_module": "@jupyter-widgets/base",
            "_view_module_version": "1.2.0",
            "_view_name": "StyleView",
            "bar_color": null,
            "description_width": ""
          }
        },
        "9efafe74def24bc3a197ba0e95b94ec7": {
          "model_module": "@jupyter-widgets/base",
          "model_name": "LayoutModel",
          "model_module_version": "1.2.0",
          "state": {
            "_model_module": "@jupyter-widgets/base",
            "_model_module_version": "1.2.0",
            "_model_name": "LayoutModel",
            "_view_count": null,
            "_view_module": "@jupyter-widgets/base",
            "_view_module_version": "1.2.0",
            "_view_name": "LayoutView",
            "align_content": null,
            "align_items": null,
            "align_self": null,
            "border": null,
            "bottom": null,
            "display": null,
            "flex": null,
            "flex_flow": null,
            "grid_area": null,
            "grid_auto_columns": null,
            "grid_auto_flow": null,
            "grid_auto_rows": null,
            "grid_column": null,
            "grid_gap": null,
            "grid_row": null,
            "grid_template_areas": null,
            "grid_template_columns": null,
            "grid_template_rows": null,
            "height": null,
            "justify_content": null,
            "justify_items": null,
            "left": null,
            "margin": null,
            "max_height": null,
            "max_width": null,
            "min_height": null,
            "min_width": null,
            "object_fit": null,
            "object_position": null,
            "order": null,
            "overflow": null,
            "overflow_x": null,
            "overflow_y": null,
            "padding": null,
            "right": null,
            "top": null,
            "visibility": null,
            "width": null
          }
        },
        "5c7e9573ddb54573a1c1dfc0a657f938": {
          "model_module": "@jupyter-widgets/controls",
          "model_name": "DescriptionStyleModel",
          "model_module_version": "1.5.0",
          "state": {
            "_model_module": "@jupyter-widgets/controls",
            "_model_module_version": "1.5.0",
            "_model_name": "DescriptionStyleModel",
            "_view_count": null,
            "_view_module": "@jupyter-widgets/base",
            "_view_module_version": "1.2.0",
            "_view_name": "StyleView",
            "description_width": ""
          }
        },
        "8fe07a66594d48ef890f70fd16d43d22": {
          "model_module": "@jupyter-widgets/controls",
          "model_name": "HBoxModel",
          "model_module_version": "1.5.0",
          "state": {
            "_dom_classes": [],
            "_model_module": "@jupyter-widgets/controls",
            "_model_module_version": "1.5.0",
            "_model_name": "HBoxModel",
            "_view_count": null,
            "_view_module": "@jupyter-widgets/controls",
            "_view_module_version": "1.5.0",
            "_view_name": "HBoxView",
            "box_style": "",
            "children": [
              "IPY_MODEL_70ade26e960044e8bfffaa7458c3a4e5",
              "IPY_MODEL_5a8ff383f96c4d38b7998c7792a4fe40",
              "IPY_MODEL_2f3c2ef3f2bc4ab5908d4bb8060d67cf"
            ],
            "layout": "IPY_MODEL_62c9312e3aef40ffbc5bb136b5a5b3db"
          }
        },
        "70ade26e960044e8bfffaa7458c3a4e5": {
          "model_module": "@jupyter-widgets/controls",
          "model_name": "HTMLModel",
          "model_module_version": "1.5.0",
          "state": {
            "_dom_classes": [],
            "_model_module": "@jupyter-widgets/controls",
            "_model_module_version": "1.5.0",
            "_model_name": "HTMLModel",
            "_view_count": null,
            "_view_module": "@jupyter-widgets/controls",
            "_view_module_version": "1.5.0",
            "_view_name": "HTMLView",
            "description": "",
            "description_tooltip": null,
            "layout": "IPY_MODEL_50eedbe51d1d4d6d9d737f86610950dd",
            "placeholder": "​",
            "style": "IPY_MODEL_38f7ae17989041b7ad214a3f77ae3d82",
            "value": "Downloading (…)lve/main/config.json: 100%"
          }
        },
        "5a8ff383f96c4d38b7998c7792a4fe40": {
          "model_module": "@jupyter-widgets/controls",
          "model_name": "FloatProgressModel",
          "model_module_version": "1.5.0",
          "state": {
            "_dom_classes": [],
            "_model_module": "@jupyter-widgets/controls",
            "_model_module_version": "1.5.0",
            "_model_name": "FloatProgressModel",
            "_view_count": null,
            "_view_module": "@jupyter-widgets/controls",
            "_view_module_version": "1.5.0",
            "_view_name": "ProgressView",
            "bar_style": "success",
            "description": "",
            "description_tooltip": null,
            "layout": "IPY_MODEL_b25e0a4755884ba194942d04e320fcff",
            "max": 1417,
            "min": 0,
            "orientation": "horizontal",
            "style": "IPY_MODEL_2a75bea2763a437687f820a9fb14f820",
            "value": 1417
          }
        },
        "2f3c2ef3f2bc4ab5908d4bb8060d67cf": {
          "model_module": "@jupyter-widgets/controls",
          "model_name": "HTMLModel",
          "model_module_version": "1.5.0",
          "state": {
            "_dom_classes": [],
            "_model_module": "@jupyter-widgets/controls",
            "_model_module_version": "1.5.0",
            "_model_name": "HTMLModel",
            "_view_count": null,
            "_view_module": "@jupyter-widgets/controls",
            "_view_module_version": "1.5.0",
            "_view_name": "HTMLView",
            "description": "",
            "description_tooltip": null,
            "layout": "IPY_MODEL_d92c61e06c484638bff794b8ddcc303d",
            "placeholder": "​",
            "style": "IPY_MODEL_7c6f4f4150294cba8d67e10bfe369f27",
            "value": " 1.42k/1.42k [00:00&lt;00:00, 94.6kB/s]"
          }
        },
        "62c9312e3aef40ffbc5bb136b5a5b3db": {
          "model_module": "@jupyter-widgets/base",
          "model_name": "LayoutModel",
          "model_module_version": "1.2.0",
          "state": {
            "_model_module": "@jupyter-widgets/base",
            "_model_module_version": "1.2.0",
            "_model_name": "LayoutModel",
            "_view_count": null,
            "_view_module": "@jupyter-widgets/base",
            "_view_module_version": "1.2.0",
            "_view_name": "LayoutView",
            "align_content": null,
            "align_items": null,
            "align_self": null,
            "border": null,
            "bottom": null,
            "display": null,
            "flex": null,
            "flex_flow": null,
            "grid_area": null,
            "grid_auto_columns": null,
            "grid_auto_flow": null,
            "grid_auto_rows": null,
            "grid_column": null,
            "grid_gap": null,
            "grid_row": null,
            "grid_template_areas": null,
            "grid_template_columns": null,
            "grid_template_rows": null,
            "height": null,
            "justify_content": null,
            "justify_items": null,
            "left": null,
            "margin": null,
            "max_height": null,
            "max_width": null,
            "min_height": null,
            "min_width": null,
            "object_fit": null,
            "object_position": null,
            "order": null,
            "overflow": null,
            "overflow_x": null,
            "overflow_y": null,
            "padding": null,
            "right": null,
            "top": null,
            "visibility": null,
            "width": null
          }
        },
        "50eedbe51d1d4d6d9d737f86610950dd": {
          "model_module": "@jupyter-widgets/base",
          "model_name": "LayoutModel",
          "model_module_version": "1.2.0",
          "state": {
            "_model_module": "@jupyter-widgets/base",
            "_model_module_version": "1.2.0",
            "_model_name": "LayoutModel",
            "_view_count": null,
            "_view_module": "@jupyter-widgets/base",
            "_view_module_version": "1.2.0",
            "_view_name": "LayoutView",
            "align_content": null,
            "align_items": null,
            "align_self": null,
            "border": null,
            "bottom": null,
            "display": null,
            "flex": null,
            "flex_flow": null,
            "grid_area": null,
            "grid_auto_columns": null,
            "grid_auto_flow": null,
            "grid_auto_rows": null,
            "grid_column": null,
            "grid_gap": null,
            "grid_row": null,
            "grid_template_areas": null,
            "grid_template_columns": null,
            "grid_template_rows": null,
            "height": null,
            "justify_content": null,
            "justify_items": null,
            "left": null,
            "margin": null,
            "max_height": null,
            "max_width": null,
            "min_height": null,
            "min_width": null,
            "object_fit": null,
            "object_position": null,
            "order": null,
            "overflow": null,
            "overflow_x": null,
            "overflow_y": null,
            "padding": null,
            "right": null,
            "top": null,
            "visibility": null,
            "width": null
          }
        },
        "38f7ae17989041b7ad214a3f77ae3d82": {
          "model_module": "@jupyter-widgets/controls",
          "model_name": "DescriptionStyleModel",
          "model_module_version": "1.5.0",
          "state": {
            "_model_module": "@jupyter-widgets/controls",
            "_model_module_version": "1.5.0",
            "_model_name": "DescriptionStyleModel",
            "_view_count": null,
            "_view_module": "@jupyter-widgets/base",
            "_view_module_version": "1.2.0",
            "_view_name": "StyleView",
            "description_width": ""
          }
        },
        "b25e0a4755884ba194942d04e320fcff": {
          "model_module": "@jupyter-widgets/base",
          "model_name": "LayoutModel",
          "model_module_version": "1.2.0",
          "state": {
            "_model_module": "@jupyter-widgets/base",
            "_model_module_version": "1.2.0",
            "_model_name": "LayoutModel",
            "_view_count": null,
            "_view_module": "@jupyter-widgets/base",
            "_view_module_version": "1.2.0",
            "_view_name": "LayoutView",
            "align_content": null,
            "align_items": null,
            "align_self": null,
            "border": null,
            "bottom": null,
            "display": null,
            "flex": null,
            "flex_flow": null,
            "grid_area": null,
            "grid_auto_columns": null,
            "grid_auto_flow": null,
            "grid_auto_rows": null,
            "grid_column": null,
            "grid_gap": null,
            "grid_row": null,
            "grid_template_areas": null,
            "grid_template_columns": null,
            "grid_template_rows": null,
            "height": null,
            "justify_content": null,
            "justify_items": null,
            "left": null,
            "margin": null,
            "max_height": null,
            "max_width": null,
            "min_height": null,
            "min_width": null,
            "object_fit": null,
            "object_position": null,
            "order": null,
            "overflow": null,
            "overflow_x": null,
            "overflow_y": null,
            "padding": null,
            "right": null,
            "top": null,
            "visibility": null,
            "width": null
          }
        },
        "2a75bea2763a437687f820a9fb14f820": {
          "model_module": "@jupyter-widgets/controls",
          "model_name": "ProgressStyleModel",
          "model_module_version": "1.5.0",
          "state": {
            "_model_module": "@jupyter-widgets/controls",
            "_model_module_version": "1.5.0",
            "_model_name": "ProgressStyleModel",
            "_view_count": null,
            "_view_module": "@jupyter-widgets/base",
            "_view_module_version": "1.2.0",
            "_view_name": "StyleView",
            "bar_color": null,
            "description_width": ""
          }
        },
        "d92c61e06c484638bff794b8ddcc303d": {
          "model_module": "@jupyter-widgets/base",
          "model_name": "LayoutModel",
          "model_module_version": "1.2.0",
          "state": {
            "_model_module": "@jupyter-widgets/base",
            "_model_module_version": "1.2.0",
            "_model_name": "LayoutModel",
            "_view_count": null,
            "_view_module": "@jupyter-widgets/base",
            "_view_module_version": "1.2.0",
            "_view_name": "LayoutView",
            "align_content": null,
            "align_items": null,
            "align_self": null,
            "border": null,
            "bottom": null,
            "display": null,
            "flex": null,
            "flex_flow": null,
            "grid_area": null,
            "grid_auto_columns": null,
            "grid_auto_flow": null,
            "grid_auto_rows": null,
            "grid_column": null,
            "grid_gap": null,
            "grid_row": null,
            "grid_template_areas": null,
            "grid_template_columns": null,
            "grid_template_rows": null,
            "height": null,
            "justify_content": null,
            "justify_items": null,
            "left": null,
            "margin": null,
            "max_height": null,
            "max_width": null,
            "min_height": null,
            "min_width": null,
            "object_fit": null,
            "object_position": null,
            "order": null,
            "overflow": null,
            "overflow_x": null,
            "overflow_y": null,
            "padding": null,
            "right": null,
            "top": null,
            "visibility": null,
            "width": null
          }
        },
        "7c6f4f4150294cba8d67e10bfe369f27": {
          "model_module": "@jupyter-widgets/controls",
          "model_name": "DescriptionStyleModel",
          "model_module_version": "1.5.0",
          "state": {
            "_model_module": "@jupyter-widgets/controls",
            "_model_module_version": "1.5.0",
            "_model_name": "DescriptionStyleModel",
            "_view_count": null,
            "_view_module": "@jupyter-widgets/base",
            "_view_module_version": "1.2.0",
            "_view_name": "StyleView",
            "description_width": ""
          }
        },
        "0dc88945e9bb4e8185da043571b77042": {
          "model_module": "@jupyter-widgets/controls",
          "model_name": "HBoxModel",
          "model_module_version": "1.5.0",
          "state": {
            "_dom_classes": [],
            "_model_module": "@jupyter-widgets/controls",
            "_model_module_version": "1.5.0",
            "_model_name": "HBoxModel",
            "_view_count": null,
            "_view_module": "@jupyter-widgets/controls",
            "_view_module_version": "1.5.0",
            "_view_name": "HBoxView",
            "box_style": "",
            "children": [
              "IPY_MODEL_4c299421f428409da49a096f196c6e89",
              "IPY_MODEL_0abd407ffbde4d3f98079f4c1fda81ee",
              "IPY_MODEL_f2325aae64cd45cc9756ba7f8b8d7082"
            ],
            "layout": "IPY_MODEL_ae1fc872844b4f99a3c4c52c5ed910b6"
          }
        },
        "4c299421f428409da49a096f196c6e89": {
          "model_module": "@jupyter-widgets/controls",
          "model_name": "HTMLModel",
          "model_module_version": "1.5.0",
          "state": {
            "_dom_classes": [],
            "_model_module": "@jupyter-widgets/controls",
            "_model_module_version": "1.5.0",
            "_model_name": "HTMLModel",
            "_view_count": null,
            "_view_module": "@jupyter-widgets/controls",
            "_view_module_version": "1.5.0",
            "_view_name": "HTMLView",
            "description": "",
            "description_tooltip": null,
            "layout": "IPY_MODEL_189c6c04840c4da8b6fae7f763e9d357",
            "placeholder": "​",
            "style": "IPY_MODEL_2f56d33cff16437883d032aeb571456d",
            "value": "Downloading pytorch_model.bin: 100%"
          }
        },
        "0abd407ffbde4d3f98079f4c1fda81ee": {
          "model_module": "@jupyter-widgets/controls",
          "model_name": "FloatProgressModel",
          "model_module_version": "1.5.0",
          "state": {
            "_dom_classes": [],
            "_model_module": "@jupyter-widgets/controls",
            "_model_module_version": "1.5.0",
            "_model_name": "FloatProgressModel",
            "_view_count": null,
            "_view_module": "@jupyter-widgets/controls",
            "_view_module_version": "1.5.0",
            "_view_name": "ProgressView",
            "bar_style": "success",
            "description": "",
            "description_tooltip": null,
            "layout": "IPY_MODEL_410ae20b946c421791bdb0a069200833",
            "max": 1112318701,
            "min": 0,
            "orientation": "horizontal",
            "style": "IPY_MODEL_533d647a1c4042f48244ffe8233b6459",
            "value": 1112318701
          }
        },
        "f2325aae64cd45cc9756ba7f8b8d7082": {
          "model_module": "@jupyter-widgets/controls",
          "model_name": "HTMLModel",
          "model_module_version": "1.5.0",
          "state": {
            "_dom_classes": [],
            "_model_module": "@jupyter-widgets/controls",
            "_model_module_version": "1.5.0",
            "_model_name": "HTMLModel",
            "_view_count": null,
            "_view_module": "@jupyter-widgets/controls",
            "_view_module_version": "1.5.0",
            "_view_name": "HTMLView",
            "description": "",
            "description_tooltip": null,
            "layout": "IPY_MODEL_653f4f7efaea49438da5359460010843",
            "placeholder": "​",
            "style": "IPY_MODEL_34474641205f4a338bfc93e1daaa2f97",
            "value": " 1.11G/1.11G [00:09&lt;00:00, 134MB/s]"
          }
        },
        "ae1fc872844b4f99a3c4c52c5ed910b6": {
          "model_module": "@jupyter-widgets/base",
          "model_name": "LayoutModel",
          "model_module_version": "1.2.0",
          "state": {
            "_model_module": "@jupyter-widgets/base",
            "_model_module_version": "1.2.0",
            "_model_name": "LayoutModel",
            "_view_count": null,
            "_view_module": "@jupyter-widgets/base",
            "_view_module_version": "1.2.0",
            "_view_name": "LayoutView",
            "align_content": null,
            "align_items": null,
            "align_self": null,
            "border": null,
            "bottom": null,
            "display": null,
            "flex": null,
            "flex_flow": null,
            "grid_area": null,
            "grid_auto_columns": null,
            "grid_auto_flow": null,
            "grid_auto_rows": null,
            "grid_column": null,
            "grid_gap": null,
            "grid_row": null,
            "grid_template_areas": null,
            "grid_template_columns": null,
            "grid_template_rows": null,
            "height": null,
            "justify_content": null,
            "justify_items": null,
            "left": null,
            "margin": null,
            "max_height": null,
            "max_width": null,
            "min_height": null,
            "min_width": null,
            "object_fit": null,
            "object_position": null,
            "order": null,
            "overflow": null,
            "overflow_x": null,
            "overflow_y": null,
            "padding": null,
            "right": null,
            "top": null,
            "visibility": null,
            "width": null
          }
        },
        "189c6c04840c4da8b6fae7f763e9d357": {
          "model_module": "@jupyter-widgets/base",
          "model_name": "LayoutModel",
          "model_module_version": "1.2.0",
          "state": {
            "_model_module": "@jupyter-widgets/base",
            "_model_module_version": "1.2.0",
            "_model_name": "LayoutModel",
            "_view_count": null,
            "_view_module": "@jupyter-widgets/base",
            "_view_module_version": "1.2.0",
            "_view_name": "LayoutView",
            "align_content": null,
            "align_items": null,
            "align_self": null,
            "border": null,
            "bottom": null,
            "display": null,
            "flex": null,
            "flex_flow": null,
            "grid_area": null,
            "grid_auto_columns": null,
            "grid_auto_flow": null,
            "grid_auto_rows": null,
            "grid_column": null,
            "grid_gap": null,
            "grid_row": null,
            "grid_template_areas": null,
            "grid_template_columns": null,
            "grid_template_rows": null,
            "height": null,
            "justify_content": null,
            "justify_items": null,
            "left": null,
            "margin": null,
            "max_height": null,
            "max_width": null,
            "min_height": null,
            "min_width": null,
            "object_fit": null,
            "object_position": null,
            "order": null,
            "overflow": null,
            "overflow_x": null,
            "overflow_y": null,
            "padding": null,
            "right": null,
            "top": null,
            "visibility": null,
            "width": null
          }
        },
        "2f56d33cff16437883d032aeb571456d": {
          "model_module": "@jupyter-widgets/controls",
          "model_name": "DescriptionStyleModel",
          "model_module_version": "1.5.0",
          "state": {
            "_model_module": "@jupyter-widgets/controls",
            "_model_module_version": "1.5.0",
            "_model_name": "DescriptionStyleModel",
            "_view_count": null,
            "_view_module": "@jupyter-widgets/base",
            "_view_module_version": "1.2.0",
            "_view_name": "StyleView",
            "description_width": ""
          }
        },
        "410ae20b946c421791bdb0a069200833": {
          "model_module": "@jupyter-widgets/base",
          "model_name": "LayoutModel",
          "model_module_version": "1.2.0",
          "state": {
            "_model_module": "@jupyter-widgets/base",
            "_model_module_version": "1.2.0",
            "_model_name": "LayoutModel",
            "_view_count": null,
            "_view_module": "@jupyter-widgets/base",
            "_view_module_version": "1.2.0",
            "_view_name": "LayoutView",
            "align_content": null,
            "align_items": null,
            "align_self": null,
            "border": null,
            "bottom": null,
            "display": null,
            "flex": null,
            "flex_flow": null,
            "grid_area": null,
            "grid_auto_columns": null,
            "grid_auto_flow": null,
            "grid_auto_rows": null,
            "grid_column": null,
            "grid_gap": null,
            "grid_row": null,
            "grid_template_areas": null,
            "grid_template_columns": null,
            "grid_template_rows": null,
            "height": null,
            "justify_content": null,
            "justify_items": null,
            "left": null,
            "margin": null,
            "max_height": null,
            "max_width": null,
            "min_height": null,
            "min_width": null,
            "object_fit": null,
            "object_position": null,
            "order": null,
            "overflow": null,
            "overflow_x": null,
            "overflow_y": null,
            "padding": null,
            "right": null,
            "top": null,
            "visibility": null,
            "width": null
          }
        },
        "533d647a1c4042f48244ffe8233b6459": {
          "model_module": "@jupyter-widgets/controls",
          "model_name": "ProgressStyleModel",
          "model_module_version": "1.5.0",
          "state": {
            "_model_module": "@jupyter-widgets/controls",
            "_model_module_version": "1.5.0",
            "_model_name": "ProgressStyleModel",
            "_view_count": null,
            "_view_module": "@jupyter-widgets/base",
            "_view_module_version": "1.2.0",
            "_view_name": "StyleView",
            "bar_color": null,
            "description_width": ""
          }
        },
        "653f4f7efaea49438da5359460010843": {
          "model_module": "@jupyter-widgets/base",
          "model_name": "LayoutModel",
          "model_module_version": "1.2.0",
          "state": {
            "_model_module": "@jupyter-widgets/base",
            "_model_module_version": "1.2.0",
            "_model_name": "LayoutModel",
            "_view_count": null,
            "_view_module": "@jupyter-widgets/base",
            "_view_module_version": "1.2.0",
            "_view_name": "LayoutView",
            "align_content": null,
            "align_items": null,
            "align_self": null,
            "border": null,
            "bottom": null,
            "display": null,
            "flex": null,
            "flex_flow": null,
            "grid_area": null,
            "grid_auto_columns": null,
            "grid_auto_flow": null,
            "grid_auto_rows": null,
            "grid_column": null,
            "grid_gap": null,
            "grid_row": null,
            "grid_template_areas": null,
            "grid_template_columns": null,
            "grid_template_rows": null,
            "height": null,
            "justify_content": null,
            "justify_items": null,
            "left": null,
            "margin": null,
            "max_height": null,
            "max_width": null,
            "min_height": null,
            "min_width": null,
            "object_fit": null,
            "object_position": null,
            "order": null,
            "overflow": null,
            "overflow_x": null,
            "overflow_y": null,
            "padding": null,
            "right": null,
            "top": null,
            "visibility": null,
            "width": null
          }
        },
        "34474641205f4a338bfc93e1daaa2f97": {
          "model_module": "@jupyter-widgets/controls",
          "model_name": "DescriptionStyleModel",
          "model_module_version": "1.5.0",
          "state": {
            "_model_module": "@jupyter-widgets/controls",
            "_model_module_version": "1.5.0",
            "_model_name": "DescriptionStyleModel",
            "_view_count": null,
            "_view_module": "@jupyter-widgets/base",
            "_view_module_version": "1.2.0",
            "_view_name": "StyleView",
            "description_width": ""
          }
        }
      }
    }
  },
  "nbformat_minor": 0,
  "nbformat": 4,
  "cells": [
    {
      "cell_type": "markdown",
      "source": [
        "## Import the necessary libraries"
      ],
      "metadata": {
        "papermill": {
          "duration": 0.010323,
          "end_time": "2022-12-20T21:37:24.249939",
          "exception": false,
          "start_time": "2022-12-20T21:37:24.239616",
          "status": "completed"
        },
        "tags": [],
        "id": "6IvsFgIGCIaq"
      }
    },
    {
      "cell_type": "code",
      "source": [
        "import numpy as np # linear algebra\n",
        "import pandas as pd # data processing, CSV file I/O (e.g. pd.read_csv)\n",
        "import os\n",
        ""
      ],
      "metadata": {
        "_cell_guid": "b1076dfc-b9ad-4769-8c92-a6c4dae69d19",
        "_uuid": "8f2839f25d086af736a60e9eeb907d3b93b6e0e5",
        "papermill": {
          "duration": 0.033894,
          "end_time": "2022-12-20T21:37:24.292844",
          "exception": false,
          "start_time": "2022-12-20T21:37:24.258950",
          "status": "completed"
        },
        "tags": [],
        "execution": {
          "iopub.status.busy": "2022-12-21T09:33:34.968504Z",
          "iopub.execute_input": "2022-12-21T09:33:34.968885Z",
          "iopub.status.idle": "2022-12-21T09:33:35.008157Z",
          "shell.execute_reply.started": "2022-12-21T09:33:34.968805Z",
          "shell.execute_reply": "2022-12-21T09:33:35.007143Z"
        },
        "trusted": true,
        "id": "0gQ9RStuCIa0"
      },
      "execution_count": 62,
      "outputs": []
    },
    {
      "cell_type": "code",
      "source": [
        "!pip install wget"
      ],
      "metadata": {
        "papermill": {
          "duration": 15.122787,
          "end_time": "2022-12-20T21:37:39.425129",
          "exception": false,
          "start_time": "2022-12-20T21:37:24.302342",
          "status": "completed"
        },
        "tags": [],
        "execution": {
          "iopub.status.busy": "2022-12-21T09:33:35.010109Z",
          "iopub.execute_input": "2022-12-21T09:33:35.010478Z",
          "iopub.status.idle": "2022-12-21T09:33:50.546467Z",
          "shell.execute_reply.started": "2022-12-21T09:33:35.010443Z",
          "shell.execute_reply": "2022-12-21T09:33:50.544915Z"
        },
        "trusted": true,
        "colab": {
          "base_uri": "https://localhost:8080/"
        },
        "id": "0Xp_QPx8CIa4",
        "outputId": "be184b79-f62c-462b-bba3-a364b9b03c04"
      },
      "execution_count": 2,
      "outputs": [
        {
          "output_type": "stream",
          "name": "stdout",
          "text": [
            "Collecting wget\n",
            "  Downloading wget-3.2.zip (10 kB)\n",
            "  Preparing metadata (setup.py) ... \u001b[?25l\u001b[?25hdone\n",
            "Building wheels for collected packages: wget\n",
            "  Building wheel for wget (setup.py) ... \u001b[?25l\u001b[?25hdone\n",
            "  Created wheel for wget: filename=wget-3.2-py3-none-any.whl size=9655 sha256=6336ccd6e4d19588b76c23f96b65c7af4a7e38574a31053f1ce2f55e611d2e61\n",
            "  Stored in directory: /root/.cache/pip/wheels/8b/f1/7f/5c94f0a7a505ca1c81cd1d9208ae2064675d97582078e6c769\n",
            "Successfully built wget\n",
            "Installing collected packages: wget\n",
            "Successfully installed wget-3.2\n"
          ]
        }
      ]
    },
    {
      "cell_type": "code",
      "source": [
        "pip install transformers"
      ],
      "metadata": {
        "colab": {
          "base_uri": "https://localhost:8080/"
        },
        "id": "Mz51QsFZD57t",
        "outputId": "f3c4ad62-7e9f-46ce-90e5-c09b5051a6a1"
      },
      "execution_count": 3,
      "outputs": [
        {
          "output_type": "stream",
          "name": "stdout",
          "text": [
            "Collecting transformers\n",
            "  Downloading transformers-4.32.0-py3-none-any.whl (7.5 MB)\n",
            "\u001b[2K     \u001b[90m━━━━━━━━━━━━━━━━━━━━━━━━━━━━━━━━━━━━━━━━\u001b[0m \u001b[32m7.5/7.5 MB\u001b[0m \u001b[31m19.4 MB/s\u001b[0m eta \u001b[36m0:00:00\u001b[0m\n",
            "\u001b[?25hRequirement already satisfied: filelock in /usr/local/lib/python3.10/dist-packages (from transformers) (3.12.2)\n",
            "Collecting huggingface-hub<1.0,>=0.15.1 (from transformers)\n",
            "  Downloading huggingface_hub-0.16.4-py3-none-any.whl (268 kB)\n",
            "\u001b[2K     \u001b[90m━━━━━━━━━━━━━━━━━━━━━━━━━━━━━━━━━━━━━━\u001b[0m \u001b[32m268.8/268.8 kB\u001b[0m \u001b[31m33.6 MB/s\u001b[0m eta \u001b[36m0:00:00\u001b[0m\n",
            "\u001b[?25hRequirement already satisfied: numpy>=1.17 in /usr/local/lib/python3.10/dist-packages (from transformers) (1.23.5)\n",
            "Requirement already satisfied: packaging>=20.0 in /usr/local/lib/python3.10/dist-packages (from transformers) (23.1)\n",
            "Requirement already satisfied: pyyaml>=5.1 in /usr/local/lib/python3.10/dist-packages (from transformers) (6.0.1)\n",
            "Requirement already satisfied: regex!=2019.12.17 in /usr/local/lib/python3.10/dist-packages (from transformers) (2023.6.3)\n",
            "Requirement already satisfied: requests in /usr/local/lib/python3.10/dist-packages (from transformers) (2.31.0)\n",
            "Collecting tokenizers!=0.11.3,<0.14,>=0.11.1 (from transformers)\n",
            "  Downloading tokenizers-0.13.3-cp310-cp310-manylinux_2_17_x86_64.manylinux2014_x86_64.whl (7.8 MB)\n",
            "\u001b[2K     \u001b[90m━━━━━━━━━━━━━━━━━━━━━━━━━━━━━━━━━━━━━━━━\u001b[0m \u001b[32m7.8/7.8 MB\u001b[0m \u001b[31m56.0 MB/s\u001b[0m eta \u001b[36m0:00:00\u001b[0m\n",
            "\u001b[?25hCollecting safetensors>=0.3.1 (from transformers)\n",
            "  Downloading safetensors-0.3.3-cp310-cp310-manylinux_2_17_x86_64.manylinux2014_x86_64.whl (1.3 MB)\n",
            "\u001b[2K     \u001b[90m━━━━━━━━━━━━━━━━━━━━━━━━━━━━━━━━━━━━━━━━\u001b[0m \u001b[32m1.3/1.3 MB\u001b[0m \u001b[31m72.5 MB/s\u001b[0m eta \u001b[36m0:00:00\u001b[0m\n",
            "\u001b[?25hRequirement already satisfied: tqdm>=4.27 in /usr/local/lib/python3.10/dist-packages (from transformers) (4.66.1)\n",
            "Requirement already satisfied: fsspec in /usr/local/lib/python3.10/dist-packages (from huggingface-hub<1.0,>=0.15.1->transformers) (2023.6.0)\n",
            "Requirement already satisfied: typing-extensions>=3.7.4.3 in /usr/local/lib/python3.10/dist-packages (from huggingface-hub<1.0,>=0.15.1->transformers) (4.7.1)\n",
            "Requirement already satisfied: charset-normalizer<4,>=2 in /usr/local/lib/python3.10/dist-packages (from requests->transformers) (3.2.0)\n",
            "Requirement already satisfied: idna<4,>=2.5 in /usr/local/lib/python3.10/dist-packages (from requests->transformers) (3.4)\n",
            "Requirement already satisfied: urllib3<3,>=1.21.1 in /usr/local/lib/python3.10/dist-packages (from requests->transformers) (2.0.4)\n",
            "Requirement already satisfied: certifi>=2017.4.17 in /usr/local/lib/python3.10/dist-packages (from requests->transformers) (2023.7.22)\n",
            "Installing collected packages: tokenizers, safetensors, huggingface-hub, transformers\n",
            "Successfully installed huggingface-hub-0.16.4 safetensors-0.3.3 tokenizers-0.13.3 transformers-4.32.0\n"
          ]
        }
      ]
    },
    {
      "cell_type": "code",
      "source": [
        "from sklearn.metrics import ConfusionMatrixDisplay"
      ],
      "metadata": {
        "id": "2mFIa5PbElld"
      },
      "execution_count": 4,
      "outputs": []
    },
    {
      "cell_type": "code",
      "source": [
        "import matplotlib.pyplot as plt\n",
        "import seaborn as sns\n",
        "import warnings, wget\n",
        "warnings.filterwarnings(\"ignore\")\n",
        "import tensorflow as tf\n",
        "from tensorflow.keras.models import Model\n",
        "from tensorflow.keras.layers import Dense, Input, Dropout, Flatten\n",
        "from tensorflow.keras.callbacks import EarlyStopping, ModelCheckpoint\n",
        "from tensorflow.keras.losses import CategoricalCrossentropy\n",
        "from tensorflow.keras.optimizers import Adam\n",
        "from tensorflow.keras.metrics import CategoricalAccuracy\n",
        "from tensorflow.keras.utils import to_categorical, plot_model\n",
        "from sklearn.model_selection import train_test_split\n",
        "from sklearn.metrics import confusion_matrix, classification_report, ConfusionMatrixDisplay\n",
        "from wordcloud import WordCloud\n",
        "wget.download(\"https://raw.githubusercontent.com/yogawicaksana/helper_prabowo/main/helper_prabowo_ml.py\",out=\"helper_prabowo_ml.py\")\n",
        "\n",
        "\n",
        "from helper_prabowo_ml import clean_html, remove_links, remove_special_characters, removeStopWords, remove_, remove_digits, lower, email_address, non_ascii, punct, hashtags\n",
        "from transformers import AutoTokenizer, TFAutoModelForSequenceClassification"
      ],
      "metadata": {
        "papermill": {
          "duration": 13.719018,
          "end_time": "2022-12-20T21:37:53.154128",
          "exception": false,
          "start_time": "2022-12-20T21:37:39.435110",
          "status": "completed"
        },
        "tags": [],
        "execution": {
          "iopub.status.busy": "2022-12-21T10:44:24.900058Z",
          "iopub.execute_input": "2022-12-21T10:44:24.900445Z",
          "iopub.status.idle": "2022-12-21T10:44:25.235959Z",
          "shell.execute_reply.started": "2022-12-21T10:44:24.900415Z",
          "shell.execute_reply": "2022-12-21T10:44:25.234965Z"
        },
        "trusted": true,
        "colab": {
          "base_uri": "https://localhost:8080/"
        },
        "id": "w2NQqCtWCIa5",
        "outputId": "92653bb7-a85a-492b-e781-7d28f4587ff5"
      },
      "execution_count": 5,
      "outputs": [
        {
          "output_type": "stream",
          "name": "stderr",
          "text": [
            "[nltk_data] Downloading package stopwords to /root/nltk_data...\n",
            "[nltk_data]   Unzipping corpora/stopwords.zip.\n"
          ]
        }
      ]
    },
    {
      "cell_type": "markdown",
      "source": [
        "## Updating the default configuration"
      ],
      "metadata": {
        "papermill": {
          "duration": 0.009321,
          "end_time": "2022-12-20T21:37:53.173221",
          "exception": false,
          "start_time": "2022-12-20T21:37:53.163900",
          "status": "completed"
        },
        "tags": [],
        "id": "TH76LSq6CIa7"
      }
    },
    {
      "cell_type": "code",
      "source": [
        "plt.rcParams['figure.figsize'] = (12,8)"
      ],
      "metadata": {
        "papermill": {
          "duration": 0.017895,
          "end_time": "2022-12-20T21:37:53.200440",
          "exception": false,
          "start_time": "2022-12-20T21:37:53.182545",
          "status": "completed"
        },
        "tags": [],
        "execution": {
          "iopub.status.busy": "2022-12-21T09:33:59.012945Z",
          "iopub.execute_input": "2022-12-21T09:33:59.013626Z",
          "iopub.status.idle": "2022-12-21T09:33:59.026729Z",
          "shell.execute_reply.started": "2022-12-21T09:33:59.013593Z",
          "shell.execute_reply": "2022-12-21T09:33:59.022335Z"
        },
        "trusted": true,
        "id": "2voNsleOCIa8"
      },
      "execution_count": 6,
      "outputs": []
    },
    {
      "cell_type": "markdown",
      "source": [
        "## Loading the dataset"
      ],
      "metadata": {
        "papermill": {
          "duration": 0.009489,
          "end_time": "2022-12-20T21:37:53.219198",
          "exception": false,
          "start_time": "2022-12-20T21:37:53.209709",
          "status": "completed"
        },
        "tags": [],
        "id": "sYZRnxkNCIa8"
      }
    },
    {
      "cell_type": "code",
      "source": [
        "df = pd.read_csv(\"/content/Language Detection.csv\")\n",
        "df = df.sample(frac=1)\n",
        "df.head()"
      ],
      "metadata": {
        "papermill": {
          "duration": 0.107086,
          "end_time": "2022-12-20T21:37:53.336284",
          "exception": false,
          "start_time": "2022-12-20T21:37:53.229198",
          "status": "completed"
        },
        "tags": [],
        "execution": {
          "iopub.status.busy": "2022-12-21T09:33:59.031428Z",
          "iopub.execute_input": "2022-12-21T09:33:59.031901Z",
          "iopub.status.idle": "2022-12-21T09:33:59.142496Z",
          "shell.execute_reply.started": "2022-12-21T09:33:59.031869Z",
          "shell.execute_reply": "2022-12-21T09:33:59.141230Z"
        },
        "trusted": true,
        "colab": {
          "base_uri": "https://localhost:8080/",
          "height": 206
        },
        "id": "d7QEnsVlCIa9",
        "outputId": "b040a8c0-2926-4660-b5dd-e9e92aa7ce18"
      },
      "execution_count": 7,
      "outputs": [
        {
          "output_type": "execute_result",
          "data": {
            "text/plain": [
              "                                                    Text   Language\n",
              "1434   അതിനാൽ വിക്കിപീഡിയയിലെ ഉള്ളടക്കം എല്ലാക്കാലവും...  Malayalam\n",
              "10052  ಯಾರಾದರೂ ತಂಪಾದ ಹಾಸ್ಯವನ್ನು ಹೇಳಿದರೆ ಅದು ಒಳ್ಳೆಯದು ...    Kannada\n",
              "10012                                     ಸಾಧ್ಯವಾಗಲಿಲ್ಲ.    Kannada\n",
              "5046   Todos ellos son también multilingües y libres ...    Spanish\n",
              "8123                           tanıştığıma memnun oldum.    Turkish"
            ],
            "text/html": [
              "\n",
              "  <div id=\"df-bda776d3-96dd-472c-a014-1a46207021cd\" class=\"colab-df-container\">\n",
              "    <div>\n",
              "<style scoped>\n",
              "    .dataframe tbody tr th:only-of-type {\n",
              "        vertical-align: middle;\n",
              "    }\n",
              "\n",
              "    .dataframe tbody tr th {\n",
              "        vertical-align: top;\n",
              "    }\n",
              "\n",
              "    .dataframe thead th {\n",
              "        text-align: right;\n",
              "    }\n",
              "</style>\n",
              "<table border=\"1\" class=\"dataframe\">\n",
              "  <thead>\n",
              "    <tr style=\"text-align: right;\">\n",
              "      <th></th>\n",
              "      <th>Text</th>\n",
              "      <th>Language</th>\n",
              "    </tr>\n",
              "  </thead>\n",
              "  <tbody>\n",
              "    <tr>\n",
              "      <th>1434</th>\n",
              "      <td>അതിനാൽ വിക്കിപീഡിയയിലെ ഉള്ളടക്കം എല്ലാക്കാലവും...</td>\n",
              "      <td>Malayalam</td>\n",
              "    </tr>\n",
              "    <tr>\n",
              "      <th>10052</th>\n",
              "      <td>ಯಾರಾದರೂ ತಂಪಾದ ಹಾಸ್ಯವನ್ನು ಹೇಳಿದರೆ ಅದು ಒಳ್ಳೆಯದು ...</td>\n",
              "      <td>Kannada</td>\n",
              "    </tr>\n",
              "    <tr>\n",
              "      <th>10012</th>\n",
              "      <td>ಸಾಧ್ಯವಾಗಲಿಲ್ಲ.</td>\n",
              "      <td>Kannada</td>\n",
              "    </tr>\n",
              "    <tr>\n",
              "      <th>5046</th>\n",
              "      <td>Todos ellos son también multilingües y libres ...</td>\n",
              "      <td>Spanish</td>\n",
              "    </tr>\n",
              "    <tr>\n",
              "      <th>8123</th>\n",
              "      <td>tanıştığıma memnun oldum.</td>\n",
              "      <td>Turkish</td>\n",
              "    </tr>\n",
              "  </tbody>\n",
              "</table>\n",
              "</div>\n",
              "    <div class=\"colab-df-buttons\">\n",
              "\n",
              "  <div class=\"colab-df-container\">\n",
              "    <button class=\"colab-df-convert\" onclick=\"convertToInteractive('df-bda776d3-96dd-472c-a014-1a46207021cd')\"\n",
              "            title=\"Convert this dataframe to an interactive table.\"\n",
              "            style=\"display:none;\">\n",
              "\n",
              "  <svg xmlns=\"http://www.w3.org/2000/svg\" height=\"24px\" viewBox=\"0 -960 960 960\">\n",
              "    <path d=\"M120-120v-720h720v720H120Zm60-500h600v-160H180v160Zm220 220h160v-160H400v160Zm0 220h160v-160H400v160ZM180-400h160v-160H180v160Zm440 0h160v-160H620v160ZM180-180h160v-160H180v160Zm440 0h160v-160H620v160Z\"/>\n",
              "  </svg>\n",
              "    </button>\n",
              "\n",
              "  <style>\n",
              "    .colab-df-container {\n",
              "      display:flex;\n",
              "      gap: 12px;\n",
              "    }\n",
              "\n",
              "    .colab-df-convert {\n",
              "      background-color: #E8F0FE;\n",
              "      border: none;\n",
              "      border-radius: 50%;\n",
              "      cursor: pointer;\n",
              "      display: none;\n",
              "      fill: #1967D2;\n",
              "      height: 32px;\n",
              "      padding: 0 0 0 0;\n",
              "      width: 32px;\n",
              "    }\n",
              "\n",
              "    .colab-df-convert:hover {\n",
              "      background-color: #E2EBFA;\n",
              "      box-shadow: 0px 1px 2px rgba(60, 64, 67, 0.3), 0px 1px 3px 1px rgba(60, 64, 67, 0.15);\n",
              "      fill: #174EA6;\n",
              "    }\n",
              "\n",
              "    .colab-df-buttons div {\n",
              "      margin-bottom: 4px;\n",
              "    }\n",
              "\n",
              "    [theme=dark] .colab-df-convert {\n",
              "      background-color: #3B4455;\n",
              "      fill: #D2E3FC;\n",
              "    }\n",
              "\n",
              "    [theme=dark] .colab-df-convert:hover {\n",
              "      background-color: #434B5C;\n",
              "      box-shadow: 0px 1px 3px 1px rgba(0, 0, 0, 0.15);\n",
              "      filter: drop-shadow(0px 1px 2px rgba(0, 0, 0, 0.3));\n",
              "      fill: #FFFFFF;\n",
              "    }\n",
              "  </style>\n",
              "\n",
              "    <script>\n",
              "      const buttonEl =\n",
              "        document.querySelector('#df-bda776d3-96dd-472c-a014-1a46207021cd button.colab-df-convert');\n",
              "      buttonEl.style.display =\n",
              "        google.colab.kernel.accessAllowed ? 'block' : 'none';\n",
              "\n",
              "      async function convertToInteractive(key) {\n",
              "        const element = document.querySelector('#df-bda776d3-96dd-472c-a014-1a46207021cd');\n",
              "        const dataTable =\n",
              "          await google.colab.kernel.invokeFunction('convertToInteractive',\n",
              "                                                    [key], {});\n",
              "        if (!dataTable) return;\n",
              "\n",
              "        const docLinkHtml = 'Like what you see? Visit the ' +\n",
              "          '<a target=\"_blank\" href=https://colab.research.google.com/notebooks/data_table.ipynb>data table notebook</a>'\n",
              "          + ' to learn more about interactive tables.';\n",
              "        element.innerHTML = '';\n",
              "        dataTable['output_type'] = 'display_data';\n",
              "        await google.colab.output.renderOutput(dataTable, element);\n",
              "        const docLink = document.createElement('div');\n",
              "        docLink.innerHTML = docLinkHtml;\n",
              "        element.appendChild(docLink);\n",
              "      }\n",
              "    </script>\n",
              "  </div>\n",
              "\n",
              "\n",
              "<div id=\"df-eb0a2ff3-e128-488a-a5c9-9bff5abf4ad1\">\n",
              "  <button class=\"colab-df-quickchart\" onclick=\"quickchart('df-eb0a2ff3-e128-488a-a5c9-9bff5abf4ad1')\"\n",
              "            title=\"Suggest charts.\"\n",
              "            style=\"display:none;\">\n",
              "\n",
              "<svg xmlns=\"http://www.w3.org/2000/svg\" height=\"24px\"viewBox=\"0 0 24 24\"\n",
              "     width=\"24px\">\n",
              "    <g>\n",
              "        <path d=\"M19 3H5c-1.1 0-2 .9-2 2v14c0 1.1.9 2 2 2h14c1.1 0 2-.9 2-2V5c0-1.1-.9-2-2-2zM9 17H7v-7h2v7zm4 0h-2V7h2v10zm4 0h-2v-4h2v4z\"/>\n",
              "    </g>\n",
              "</svg>\n",
              "  </button>\n",
              "\n",
              "<style>\n",
              "  .colab-df-quickchart {\n",
              "    background-color: #E8F0FE;\n",
              "    border: none;\n",
              "    border-radius: 50%;\n",
              "    cursor: pointer;\n",
              "    display: none;\n",
              "    fill: #1967D2;\n",
              "    height: 32px;\n",
              "    padding: 0 0 0 0;\n",
              "    width: 32px;\n",
              "  }\n",
              "\n",
              "  .colab-df-quickchart:hover {\n",
              "    background-color: #E2EBFA;\n",
              "    box-shadow: 0px 1px 2px rgba(60, 64, 67, 0.3), 0px 1px 3px 1px rgba(60, 64, 67, 0.15);\n",
              "    fill: #174EA6;\n",
              "  }\n",
              "\n",
              "  [theme=dark] .colab-df-quickchart {\n",
              "    background-color: #3B4455;\n",
              "    fill: #D2E3FC;\n",
              "  }\n",
              "\n",
              "  [theme=dark] .colab-df-quickchart:hover {\n",
              "    background-color: #434B5C;\n",
              "    box-shadow: 0px 1px 3px 1px rgba(0, 0, 0, 0.15);\n",
              "    filter: drop-shadow(0px 1px 2px rgba(0, 0, 0, 0.3));\n",
              "    fill: #FFFFFF;\n",
              "  }\n",
              "</style>\n",
              "\n",
              "  <script>\n",
              "    async function quickchart(key) {\n",
              "      const charts = await google.colab.kernel.invokeFunction(\n",
              "          'suggestCharts', [key], {});\n",
              "    }\n",
              "    (() => {\n",
              "      let quickchartButtonEl =\n",
              "        document.querySelector('#df-eb0a2ff3-e128-488a-a5c9-9bff5abf4ad1 button');\n",
              "      quickchartButtonEl.style.display =\n",
              "        google.colab.kernel.accessAllowed ? 'block' : 'none';\n",
              "    })();\n",
              "  </script>\n",
              "</div>\n",
              "    </div>\n",
              "  </div>\n"
            ]
          },
          "metadata": {},
          "execution_count": 7
        }
      ]
    },
    {
      "cell_type": "markdown",
      "source": [
        "## Feature Engineering"
      ],
      "metadata": {
        "papermill": {
          "duration": 0.00981,
          "end_time": "2022-12-20T21:37:53.356451",
          "exception": false,
          "start_time": "2022-12-20T21:37:53.346641",
          "status": "completed"
        },
        "tags": [],
        "id": "oV1pIyVTCIa-"
      }
    },
    {
      "cell_type": "code",
      "source": [
        "df.shape"
      ],
      "metadata": {
        "papermill": {
          "duration": 0.01911,
          "end_time": "2022-12-20T21:37:53.386194",
          "exception": false,
          "start_time": "2022-12-20T21:37:53.367084",
          "status": "completed"
        },
        "tags": [],
        "execution": {
          "iopub.status.busy": "2022-12-21T09:33:59.144209Z",
          "iopub.execute_input": "2022-12-21T09:33:59.144646Z",
          "iopub.status.idle": "2022-12-21T09:33:59.152930Z",
          "shell.execute_reply.started": "2022-12-21T09:33:59.144605Z",
          "shell.execute_reply": "2022-12-21T09:33:59.151641Z"
        },
        "trusted": true,
        "colab": {
          "base_uri": "https://localhost:8080/"
        },
        "id": "d9ym6Th3CIa_",
        "outputId": "86711811-26b3-48a2-9681-0c33345dc312"
      },
      "execution_count": 8,
      "outputs": [
        {
          "output_type": "execute_result",
          "data": {
            "text/plain": [
              "(10337, 2)"
            ]
          },
          "metadata": {},
          "execution_count": 8
        }
      ]
    },
    {
      "cell_type": "code",
      "source": [
        "df.Language.unique()"
      ],
      "metadata": {
        "papermill": {
          "duration": 0.028021,
          "end_time": "2022-12-20T21:37:53.424066",
          "exception": false,
          "start_time": "2022-12-20T21:37:53.396045",
          "status": "completed"
        },
        "tags": [],
        "execution": {
          "iopub.status.busy": "2022-12-21T09:33:59.155157Z",
          "iopub.execute_input": "2022-12-21T09:33:59.155609Z",
          "iopub.status.idle": "2022-12-21T09:33:59.169562Z",
          "shell.execute_reply.started": "2022-12-21T09:33:59.155574Z",
          "shell.execute_reply": "2022-12-21T09:33:59.168322Z"
        },
        "trusted": true,
        "colab": {
          "base_uri": "https://localhost:8080/"
        },
        "id": "CyaxZhVfCIbA",
        "outputId": "98780b9c-f349-45b4-d1f0-3534e1231ad2"
      },
      "execution_count": 9,
      "outputs": [
        {
          "output_type": "execute_result",
          "data": {
            "text/plain": [
              "array(['Malayalam', 'Kannada', 'Spanish', 'Turkish', 'Arabic', 'English',\n",
              "       'Tamil', 'French', 'Italian', 'Dutch', 'Danish', 'Portugeese',\n",
              "       'German', 'Russian', 'Sweedish', 'Greek', 'Hindi'], dtype=object)"
            ]
          },
          "metadata": {},
          "execution_count": 9
        }
      ]
    },
    {
      "cell_type": "code",
      "source": [
        "df.Language.replace(to_replace=['Portugeese','Sweedish'],value=['Portuguese','Swedish'],inplace=True)"
      ],
      "metadata": {
        "papermill": {
          "duration": 0.02076,
          "end_time": "2022-12-20T21:37:53.455115",
          "exception": false,
          "start_time": "2022-12-20T21:37:53.434355",
          "status": "completed"
        },
        "tags": [],
        "execution": {
          "iopub.status.busy": "2022-12-21T09:33:59.171443Z",
          "iopub.execute_input": "2022-12-21T09:33:59.172219Z",
          "iopub.status.idle": "2022-12-21T09:33:59.180691Z",
          "shell.execute_reply.started": "2022-12-21T09:33:59.172166Z",
          "shell.execute_reply": "2022-12-21T09:33:59.179685Z"
        },
        "trusted": true,
        "id": "tl32uyFXCIbA"
      },
      "execution_count": 10,
      "outputs": []
    },
    {
      "cell_type": "code",
      "source": [
        "sns.countplot(data=df, x='Language')\n",
        "plt.tight_layout()\n",
        "plt.show()"
      ],
      "metadata": {
        "colab": {
          "base_uri": "https://localhost:8080/",
          "height": 757
        },
        "id": "m4YW9sCdHzO0",
        "outputId": "b91ed1a6-0fa0-4aed-8f0c-dbb134e60136"
      },
      "execution_count": 11,
      "outputs": [
        {
          "output_type": "display_data",
          "data": {
            "text/plain": [
              "<Figure size 1200x800 with 1 Axes>"
            ],
            "image/png": "[encoded data removed]"
          },
          "metadata": {}
        }
      ]
    },
    {
      "cell_type": "code",
      "source": [
        "#sns.countplot(df.Language)\n",
        "#plt.tight_layout();"
      ],
      "metadata": {
        "papermill": {
          "duration": 0.46259,
          "end_time": "2022-12-20T21:37:53.927646",
          "exception": false,
          "start_time": "2022-12-20T21:37:53.465056",
          "status": "completed"
        },
        "tags": [],
        "execution": {
          "iopub.status.busy": "2022-12-21T09:33:59.182328Z",
          "iopub.execute_input": "2022-12-21T09:33:59.182788Z",
          "iopub.status.idle": "2022-12-21T09:33:59.617177Z",
          "shell.execute_reply.started": "2022-12-21T09:33:59.182750Z",
          "shell.execute_reply": "2022-12-21T09:33:59.616075Z"
        },
        "trusted": true,
        "id": "pcFMYcGnCIbA"
      },
      "execution_count": 12,
      "outputs": []
    },
    {
      "cell_type": "code",
      "source": [
        "df.isnull().sum()"
      ],
      "metadata": {
        "colab": {
          "base_uri": "https://localhost:8080/"
        },
        "id": "6O_iOuMPJUf9",
        "outputId": "f2938e7f-b6d9-4e82-9864-86667649eaa3"
      },
      "execution_count": 13,
      "outputs": [
        {
          "output_type": "execute_result",
          "data": {
            "text/plain": [
              "Text        0\n",
              "Language    0\n",
              "dtype: int64"
            ]
          },
          "metadata": {},
          "execution_count": 13
        }
      ]
    },
    {
      "cell_type": "code",
      "source": [
        "df.shape"
      ],
      "metadata": {
        "colab": {
          "base_uri": "https://localhost:8080/"
        },
        "id": "5wV30ojWJUl_",
        "outputId": "20314613-8dcb-41c6-e7e3-678aa959ce9d"
      },
      "execution_count": 14,
      "outputs": [
        {
          "output_type": "execute_result",
          "data": {
            "text/plain": [
              "(10337, 2)"
            ]
          },
          "metadata": {},
          "execution_count": 14
        }
      ]
    },
    {
      "cell_type": "code",
      "source": [
        "#df = df[df.Language.isin([\"English\",\"French\",\"Dutch\",\"Spanish\",\"Danish\",\"Italian\",\"Swedish\",\"German\",\"Portuguese\",\"Turkish\"])]\n",
        "#df.shape"
      ],
      "metadata": {
        "papermill": {
          "duration": 0.024846,
          "end_time": "2022-12-20T21:37:53.963166",
          "exception": false,
          "start_time": "2022-12-20T21:37:53.938320",
          "status": "completed"
        },
        "tags": [],
        "execution": {
          "iopub.status.busy": "2022-12-21T09:33:59.618818Z",
          "iopub.execute_input": "2022-12-21T09:33:59.619242Z",
          "iopub.status.idle": "2022-12-21T09:33:59.630461Z",
          "shell.execute_reply.started": "2022-12-21T09:33:59.619203Z",
          "shell.execute_reply": "2022-12-21T09:33:59.629041Z"
        },
        "trusted": true,
        "id": "48IvZDKmCIbB"
      },
      "execution_count": 15,
      "outputs": []
    },
    {
      "cell_type": "code",
      "source": [
        "df = df[df.Language.isin([\"English\",\"French\",\"Dutch\",\"Spanish\",\"Danish\",\"Italian\",\"Swedish\",\"German\",\"Portuguese\",\"Turkish\"])]\n",
        "df.shape"
      ],
      "metadata": {
        "colab": {
          "base_uri": "https://localhost:8080/"
        },
        "id": "u6X7N30nW3UV",
        "outputId": "be5a52b0-cb0a-4c11-bf75-81135cf2fa2e"
      },
      "execution_count": 16,
      "outputs": [
        {
          "output_type": "execute_result",
          "data": {
            "text/plain": [
              "(7249, 2)"
            ]
          },
          "metadata": {},
          "execution_count": 16
        }
      ]
    },
    {
      "cell_type": "code",
      "source": [
        "sns.countplot(data=df, x='Language')\n",
        "plt.tight_layout()\n",
        "plt.show()"
      ],
      "metadata": {
        "papermill": {
          "duration": 0.302327,
          "end_time": "2022-12-20T21:37:54.277217",
          "exception": false,
          "start_time": "2022-12-20T21:37:53.974890",
          "status": "completed"
        },
        "tags": [],
        "execution": {
          "iopub.status.busy": "2022-12-21T09:33:59.636805Z",
          "iopub.execute_input": "2022-12-21T09:33:59.637240Z",
          "iopub.status.idle": "2022-12-21T09:33:59.911044Z",
          "shell.execute_reply.started": "2022-12-21T09:33:59.637202Z",
          "shell.execute_reply": "2022-12-21T09:33:59.909960Z"
        },
        "trusted": true,
        "colab": {
          "base_uri": "https://localhost:8080/",
          "height": 757
        },
        "id": "Hq-AfQrxCIbB",
        "outputId": "d1595ecd-ba92-421c-ee52-1bbcabe1ee30"
      },
      "execution_count": 17,
      "outputs": [
        {
          "output_type": "display_data",
          "data": {
            "text/plain": [
              "<Figure size 1200x800 with 1 Axes>"
            ],
            "image/png": "[encoded data removed]"
          },
          "metadata": {}
        }
      ]
    },
    {
      "cell_type": "markdown",
      "source": [
        "The target language classes are considerably imbalanced so they need to be accounted for later."
      ],
      "metadata": {
        "papermill": {
          "duration": 0.011188,
          "end_time": "2022-12-20T21:37:54.299319",
          "exception": false,
          "start_time": "2022-12-20T21:37:54.288131",
          "status": "completed"
        },
        "tags": [],
        "id": "GNKVGNBQCIbC"
      }
    },
    {
      "cell_type": "code",
      "source": [
        "wc = WordCloud(width=600,height=300,random_state=42).generate(' '.join(df.Text))\n",
        "plt.imshow(wc);"
      ],
      "metadata": {
        "papermill": {
          "duration": 1.96613,
          "end_time": "2022-12-20T21:37:56.276269",
          "exception": false,
          "start_time": "2022-12-20T21:37:54.310139",
          "status": "completed"
        },
        "tags": [],
        "execution": {
          "iopub.status.busy": "2022-12-21T09:33:59.912660Z",
          "iopub.execute_input": "2022-12-21T09:33:59.913028Z",
          "iopub.status.idle": "2022-12-21T09:34:01.851695Z",
          "shell.execute_reply.started": "2022-12-21T09:33:59.912982Z",
          "shell.execute_reply": "2022-12-21T09:34:01.850722Z"
        },
        "trusted": true,
        "colab": {
          "base_uri": "https://localhost:8080/",
          "height": 530
        },
        "id": "tJicGhCBCIbC",
        "outputId": "aaa438e8-9b14-4062-fbe7-6b597ccb889a"
      },
      "execution_count": 18,
      "outputs": [
        {
          "output_type": "display_data",
          "data": {
            "text/plain": [
              "<Figure size 1200x800 with 1 Axes>"
            ],
            "image/png": "[encoded data removed]"
          },
          "metadata": {}
        }
      ]
    },
    {
      "cell_type": "code",
      "source": [
        "df['num_words'] = df.Text.apply(len)\n",
        "sns.distplot(df.num_words);"
      ],
      "metadata": {
        "papermill": {
          "duration": 0.410981,
          "end_time": "2022-12-20T21:37:56.702212",
          "exception": false,
          "start_time": "2022-12-20T21:37:56.291231",
          "status": "completed"
        },
        "tags": [],
        "execution": {
          "iopub.status.busy": "2022-12-21T09:34:01.852989Z",
          "iopub.execute_input": "2022-12-21T09:34:01.853458Z",
          "iopub.status.idle": "2022-12-21T09:34:02.330977Z",
          "shell.execute_reply.started": "2022-12-21T09:34:01.853404Z",
          "shell.execute_reply": "2022-12-21T09:34:02.329771Z"
        },
        "trusted": true,
        "colab": {
          "base_uri": "https://localhost:8080/",
          "height": 696
        },
        "id": "Tf7xBxWrCIbD",
        "outputId": "6a823b48-38cc-41ed-d4dd-d0de4fa69ee9"
      },
      "execution_count": 19,
      "outputs": [
        {
          "output_type": "display_data",
          "data": {
            "text/plain": [
              "<Figure size 1200x800 with 1 Axes>"
            ],
            "image/png": "[encoded data removed]"
          },
          "metadata": {}
        }
      ]
    },
    {
      "cell_type": "code",
      "source": [
        "df['num_words'].max()"
      ],
      "metadata": {
        "colab": {
          "base_uri": "https://localhost:8080/"
        },
        "id": "4vZStlPMNOsT",
        "outputId": "b03d2865-1502-4b6c-c7f8-e893185ef415"
      },
      "execution_count": 20,
      "outputs": [
        {
          "output_type": "execute_result",
          "data": {
            "text/plain": [
              "1965"
            ]
          },
          "metadata": {},
          "execution_count": 20
        }
      ]
    },
    {
      "cell_type": "code",
      "source": [
        "df.num_words.describe()"
      ],
      "metadata": {
        "papermill": {
          "duration": 0.029556,
          "end_time": "2022-12-20T21:37:56.746317",
          "exception": false,
          "start_time": "2022-12-20T21:37:56.716761",
          "status": "completed"
        },
        "tags": [],
        "execution": {
          "iopub.status.busy": "2022-12-21T09:34:02.332563Z",
          "iopub.execute_input": "2022-12-21T09:34:02.337007Z",
          "iopub.status.idle": "2022-12-21T09:34:02.361739Z",
          "shell.execute_reply.started": "2022-12-21T09:34:02.336954Z",
          "shell.execute_reply": "2022-12-21T09:34:02.358185Z"
        },
        "trusted": true,
        "colab": {
          "base_uri": "https://localhost:8080/"
        },
        "id": "BzwgTQMuCIbD",
        "outputId": "6cff76ea-0bc2-4544-909f-6ebb4366b73d"
      },
      "execution_count": 21,
      "outputs": [
        {
          "output_type": "execute_result",
          "data": {
            "text/plain": [
              "count    7249.000000\n",
              "mean      123.570010\n",
              "std        98.117023\n",
              "min         3.000000\n",
              "25%        48.000000\n",
              "50%       106.000000\n",
              "75%       173.000000\n",
              "max      1965.000000\n",
              "Name: num_words, dtype: float64"
            ]
          },
          "metadata": {},
          "execution_count": 21
        }
      ]
    },
    {
      "cell_type": "code",
      "source": [
        "max_len = 125"
      ],
      "metadata": {
        "papermill": {
          "duration": 0.021967,
          "end_time": "2022-12-20T21:37:56.783255",
          "exception": false,
          "start_time": "2022-12-20T21:37:56.761288",
          "status": "completed"
        },
        "tags": [],
        "execution": {
          "iopub.status.busy": "2022-12-21T09:34:02.364991Z",
          "iopub.execute_input": "2022-12-21T09:34:02.365937Z",
          "iopub.status.idle": "2022-12-21T09:34:02.376318Z",
          "shell.execute_reply.started": "2022-12-21T09:34:02.365857Z",
          "shell.execute_reply": "2022-12-21T09:34:02.374958Z"
        },
        "trusted": true,
        "id": "hKXOIIGdCIbD"
      },
      "execution_count": 38,
      "outputs": []
    },
    {
      "cell_type": "markdown",
      "source": [
        "## Text Preprocessing"
      ],
      "metadata": {
        "papermill": {
          "duration": 0.014402,
          "end_time": "2022-12-20T21:37:56.811494",
          "exception": false,
          "start_time": "2022-12-20T21:37:56.797092",
          "status": "completed"
        },
        "tags": [],
        "id": "UUkXmHuqCIbE"
      }
    },
    {
      "cell_type": "code",
      "source": [
        "def text_preprocess(data,col):\n",
        "    data[col] = data[col].apply(func=clean_html)\n",
        "    data[col] = data[col].apply(func=remove_)\n",
        "    data[col] = data[col].apply(func=removeStopWords)\n",
        "    data[col] = data[col].apply(func=remove_digits)\n",
        "    data[col] = data[col].apply(func=remove_links)\n",
        "    data[col] = data[col].apply(func=remove_special_characters)\n",
        "    data[col] = data[col].apply(func=punct)\n",
        "    data[col] = data[col].apply(func=non_ascii)\n",
        "    data[col] = data[col].apply(func=email_address)\n",
        "    data[col] = data[col].apply(func=lower)\n",
        "    return data"
      ],
      "metadata": {
        "papermill": {
          "duration": 0.025587,
          "end_time": "2022-12-20T21:37:56.851909",
          "exception": false,
          "start_time": "2022-12-20T21:37:56.826322",
          "status": "completed"
        },
        "tags": [],
        "execution": {
          "iopub.status.busy": "2022-12-21T09:34:02.378583Z",
          "iopub.execute_input": "2022-12-21T09:34:02.379331Z",
          "iopub.status.idle": "2022-12-21T09:34:02.390604Z",
          "shell.execute_reply.started": "2022-12-21T09:34:02.379279Z",
          "shell.execute_reply": "2022-12-21T09:34:02.388766Z"
        },
        "trusted": true,
        "id": "O_iL2-mICIbE"
      },
      "execution_count": 23,
      "outputs": []
    },
    {
      "cell_type": "code",
      "source": [
        "preprocessed_df = text_preprocess(df,'Text')\n",
        "preprocessed_df.head()"
      ],
      "metadata": {
        "papermill": {
          "duration": 1.459044,
          "end_time": "2022-12-20T21:37:58.325301",
          "exception": false,
          "start_time": "2022-12-20T21:37:56.866257",
          "status": "completed"
        },
        "tags": [],
        "execution": {
          "iopub.status.busy": "2022-12-21T09:34:02.392982Z",
          "iopub.execute_input": "2022-12-21T09:34:02.393418Z",
          "iopub.status.idle": "2022-12-21T09:34:03.782966Z",
          "shell.execute_reply.started": "2022-12-21T09:34:02.393374Z",
          "shell.execute_reply": "2022-12-21T09:34:03.782040Z"
        },
        "trusted": true,
        "colab": {
          "base_uri": "https://localhost:8080/",
          "height": 206
        },
        "id": "4nCZPtrFCIbE",
        "outputId": "6e3f74ac-a1c2-4172-c20b-a847e6c3b98a"
      },
      "execution_count": 24,
      "outputs": [
        {
          "output_type": "execute_result",
          "data": {
            "text/plain": [
              "                                                   Text Language  num_words\n",
              "5046  todos ellos son tambin multilinges libres estn...  Spanish         95\n",
              "8123                                tantma memnun oldum  Turkish         25\n",
              "838   each training example one inputs desired outpu...  English        104\n",
              "3897  selon le journal science fin les effets sur l ...   French        166\n",
              "7755                                mi dispiace davvero  Italian         20"
            ],
            "text/html": [
              "\n",
              "  <div id=\"df-b535b627-54dc-4676-8742-9540f97bec8b\" class=\"colab-df-container\">\n",
              "    <div>\n",
              "<style scoped>\n",
              "    .dataframe tbody tr th:only-of-type {\n",
              "        vertical-align: middle;\n",
              "    }\n",
              "\n",
              "    .dataframe tbody tr th {\n",
              "        vertical-align: top;\n",
              "    }\n",
              "\n",
              "    .dataframe thead th {\n",
              "        text-align: right;\n",
              "    }\n",
              "</style>\n",
              "<table border=\"1\" class=\"dataframe\">\n",
              "  <thead>\n",
              "    <tr style=\"text-align: right;\">\n",
              "      <th></th>\n",
              "      <th>Text</th>\n",
              "      <th>Language</th>\n",
              "      <th>num_words</th>\n",
              "    </tr>\n",
              "  </thead>\n",
              "  <tbody>\n",
              "    <tr>\n",
              "      <th>5046</th>\n",
              "      <td>todos ellos son tambin multilinges libres estn...</td>\n",
              "      <td>Spanish</td>\n",
              "      <td>95</td>\n",
              "    </tr>\n",
              "    <tr>\n",
              "      <th>8123</th>\n",
              "      <td>tantma memnun oldum</td>\n",
              "      <td>Turkish</td>\n",
              "      <td>25</td>\n",
              "    </tr>\n",
              "    <tr>\n",
              "      <th>838</th>\n",
              "      <td>each training example one inputs desired outpu...</td>\n",
              "      <td>English</td>\n",
              "      <td>104</td>\n",
              "    </tr>\n",
              "    <tr>\n",
              "      <th>3897</th>\n",
              "      <td>selon le journal science fin les effets sur l ...</td>\n",
              "      <td>French</td>\n",
              "      <td>166</td>\n",
              "    </tr>\n",
              "    <tr>\n",
              "      <th>7755</th>\n",
              "      <td>mi dispiace davvero</td>\n",
              "      <td>Italian</td>\n",
              "      <td>20</td>\n",
              "    </tr>\n",
              "  </tbody>\n",
              "</table>\n",
              "</div>\n",
              "    <div class=\"colab-df-buttons\">\n",
              "\n",
              "  <div class=\"colab-df-container\">\n",
              "    <button class=\"colab-df-convert\" onclick=\"convertToInteractive('df-b535b627-54dc-4676-8742-9540f97bec8b')\"\n",
              "            title=\"Convert this dataframe to an interactive table.\"\n",
              "            style=\"display:none;\">\n",
              "\n",
              "  <svg xmlns=\"http://www.w3.org/2000/svg\" height=\"24px\" viewBox=\"0 -960 960 960\">\n",
              "    <path d=\"M120-120v-720h720v720H120Zm60-500h600v-160H180v160Zm220 220h160v-160H400v160Zm0 220h160v-160H400v160ZM180-400h160v-160H180v160Zm440 0h160v-160H620v160ZM180-180h160v-160H180v160Zm440 0h160v-160H620v160Z\"/>\n",
              "  </svg>\n",
              "    </button>\n",
              "\n",
              "  <style>\n",
              "    .colab-df-container {\n",
              "      display:flex;\n",
              "      gap: 12px;\n",
              "    }\n",
              "\n",
              "    .colab-df-convert {\n",
              "      background-color: #E8F0FE;\n",
              "      border: none;\n",
              "      border-radius: 50%;\n",
              "      cursor: pointer;\n",
              "      display: none;\n",
              "      fill: #1967D2;\n",
              "      height: 32px;\n",
              "      padding: 0 0 0 0;\n",
              "      width: 32px;\n",
              "    }\n",
              "\n",
              "    .colab-df-convert:hover {\n",
              "      background-color: #E2EBFA;\n",
              "      box-shadow: 0px 1px 2px rgba(60, 64, 67, 0.3), 0px 1px 3px 1px rgba(60, 64, 67, 0.15);\n",
              "      fill: #174EA6;\n",
              "    }\n",
              "\n",
              "    .colab-df-buttons div {\n",
              "      margin-bottom: 4px;\n",
              "    }\n",
              "\n",
              "    [theme=dark] .colab-df-convert {\n",
              "      background-color: #3B4455;\n",
              "      fill: #D2E3FC;\n",
              "    }\n",
              "\n",
              "    [theme=dark] .colab-df-convert:hover {\n",
              "      background-color: #434B5C;\n",
              "      box-shadow: 0px 1px 3px 1px rgba(0, 0, 0, 0.15);\n",
              "      filter: drop-shadow(0px 1px 2px rgba(0, 0, 0, 0.3));\n",
              "      fill: #FFFFFF;\n",
              "    }\n",
              "  </style>\n",
              "\n",
              "    <script>\n",
              "      const buttonEl =\n",
              "        document.querySelector('#df-b535b627-54dc-4676-8742-9540f97bec8b button.colab-df-convert');\n",
              "      buttonEl.style.display =\n",
              "        google.colab.kernel.accessAllowed ? 'block' : 'none';\n",
              "\n",
              "      async function convertToInteractive(key) {\n",
              "        const element = document.querySelector('#df-b535b627-54dc-4676-8742-9540f97bec8b');\n",
              "        const dataTable =\n",
              "          await google.colab.kernel.invokeFunction('convertToInteractive',\n",
              "                                                    [key], {});\n",
              "        if (!dataTable) return;\n",
              "\n",
              "        const docLinkHtml = 'Like what you see? Visit the ' +\n",
              "          '<a target=\"_blank\" href=https://colab.research.google.com/notebooks/data_table.ipynb>data table notebook</a>'\n",
              "          + ' to learn more about interactive tables.';\n",
              "        element.innerHTML = '';\n",
              "        dataTable['output_type'] = 'display_data';\n",
              "        await google.colab.output.renderOutput(dataTable, element);\n",
              "        const docLink = document.createElement('div');\n",
              "        docLink.innerHTML = docLinkHtml;\n",
              "        element.appendChild(docLink);\n",
              "      }\n",
              "    </script>\n",
              "  </div>\n",
              "\n",
              "\n",
              "<div id=\"df-0855e916-7380-48ac-bf0a-cf3f730f024d\">\n",
              "  <button class=\"colab-df-quickchart\" onclick=\"quickchart('df-0855e916-7380-48ac-bf0a-cf3f730f024d')\"\n",
              "            title=\"Suggest charts.\"\n",
              "            style=\"display:none;\">\n",
              "\n",
              "<svg xmlns=\"http://www.w3.org/2000/svg\" height=\"24px\"viewBox=\"0 0 24 24\"\n",
              "     width=\"24px\">\n",
              "    <g>\n",
              "        <path d=\"M19 3H5c-1.1 0-2 .9-2 2v14c0 1.1.9 2 2 2h14c1.1 0 2-.9 2-2V5c0-1.1-.9-2-2-2zM9 17H7v-7h2v7zm4 0h-2V7h2v10zm4 0h-2v-4h2v4z\"/>\n",
              "    </g>\n",
              "</svg>\n",
              "  </button>\n",
              "\n",
              "<style>\n",
              "  .colab-df-quickchart {\n",
              "    background-color: #E8F0FE;\n",
              "    border: none;\n",
              "    border-radius: 50%;\n",
              "    cursor: pointer;\n",
              "    display: none;\n",
              "    fill: #1967D2;\n",
              "    height: 32px;\n",
              "    padding: 0 0 0 0;\n",
              "    width: 32px;\n",
              "  }\n",
              "\n",
              "  .colab-df-quickchart:hover {\n",
              "    background-color: #E2EBFA;\n",
              "    box-shadow: 0px 1px 2px rgba(60, 64, 67, 0.3), 0px 1px 3px 1px rgba(60, 64, 67, 0.15);\n",
              "    fill: #174EA6;\n",
              "  }\n",
              "\n",
              "  [theme=dark] .colab-df-quickchart {\n",
              "    background-color: #3B4455;\n",
              "    fill: #D2E3FC;\n",
              "  }\n",
              "\n",
              "  [theme=dark] .colab-df-quickchart:hover {\n",
              "    background-color: #434B5C;\n",
              "    box-shadow: 0px 1px 3px 1px rgba(0, 0, 0, 0.15);\n",
              "    filter: drop-shadow(0px 1px 2px rgba(0, 0, 0, 0.3));\n",
              "    fill: #FFFFFF;\n",
              "  }\n",
              "</style>\n",
              "\n",
              "  <script>\n",
              "    async function quickchart(key) {\n",
              "      const charts = await google.colab.kernel.invokeFunction(\n",
              "          'suggestCharts', [key], {});\n",
              "    }\n",
              "    (() => {\n",
              "      let quickchartButtonEl =\n",
              "        document.querySelector('#df-0855e916-7380-48ac-bf0a-cf3f730f024d button');\n",
              "      quickchartButtonEl.style.display =\n",
              "        google.colab.kernel.accessAllowed ? 'block' : 'none';\n",
              "    })();\n",
              "  </script>\n",
              "</div>\n",
              "    </div>\n",
              "  </div>\n"
            ]
          },
          "metadata": {},
          "execution_count": 24
        }
      ]
    },
    {
      "cell_type": "markdown",
      "source": [
        "## Encoding the target label classes"
      ],
      "metadata": {
        "papermill": {
          "duration": 0.013818,
          "end_time": "2022-12-20T21:37:58.353393",
          "exception": false,
          "start_time": "2022-12-20T21:37:58.339575",
          "status": "completed"
        },
        "tags": [],
        "id": "d3scxzvfCIbF"
      }
    },
    {
      "cell_type": "code",
      "source": [
        "labels_dict = {}\n",
        "for idx, lang in enumerate(preprocessed_df.Language.unique()):\n",
        "    labels_dict[lang] = idx\n",
        "labels_dict"
      ],
      "metadata": {
        "papermill": {
          "duration": 0.026325,
          "end_time": "2022-12-20T21:37:58.394152",
          "exception": false,
          "start_time": "2022-12-20T21:37:58.367827",
          "status": "completed"
        },
        "tags": [],
        "execution": {
          "iopub.status.busy": "2022-12-21T09:34:03.784474Z",
          "iopub.execute_input": "2022-12-21T09:34:03.784846Z",
          "iopub.status.idle": "2022-12-21T09:34:03.793787Z",
          "shell.execute_reply.started": "2022-12-21T09:34:03.784809Z",
          "shell.execute_reply": "2022-12-21T09:34:03.792659Z"
        },
        "trusted": true,
        "colab": {
          "base_uri": "https://localhost:8080/"
        },
        "id": "_ImGZ_aMCIbF",
        "outputId": "a179f21e-e347-4700-c41a-87b5903be4be"
      },
      "execution_count": 25,
      "outputs": [
        {
          "output_type": "execute_result",
          "data": {
            "text/plain": [
              "{'Spanish': 0,\n",
              " 'Turkish': 1,\n",
              " 'English': 2,\n",
              " 'French': 3,\n",
              " 'Italian': 4,\n",
              " 'Dutch': 5,\n",
              " 'Danish': 6,\n",
              " 'Portuguese': 7,\n",
              " 'German': 8,\n",
              " 'Swedish': 9}"
            ]
          },
          "metadata": {},
          "execution_count": 25
        }
      ]
    },
    {
      "cell_type": "code",
      "source": [
        "preprocessed_df['Label'] = preprocessed_df.Language.map(labels_dict)\n",
        "preprocessed_df.head()"
      ],
      "metadata": {
        "papermill": {
          "duration": 0.029217,
          "end_time": "2022-12-20T21:37:58.437374",
          "exception": false,
          "start_time": "2022-12-20T21:37:58.408157",
          "status": "completed"
        },
        "tags": [],
        "execution": {
          "iopub.status.busy": "2022-12-21T09:34:03.796820Z",
          "iopub.execute_input": "2022-12-21T09:34:03.797325Z",
          "iopub.status.idle": "2022-12-21T09:34:03.813723Z",
          "shell.execute_reply.started": "2022-12-21T09:34:03.797296Z",
          "shell.execute_reply": "2022-12-21T09:34:03.812784Z"
        },
        "trusted": true,
        "colab": {
          "base_uri": "https://localhost:8080/",
          "height": 206
        },
        "id": "xm5Z4IJECIbF",
        "outputId": "8f5ea8d3-998a-46ed-9fed-eed07ff91936"
      },
      "execution_count": 26,
      "outputs": [
        {
          "output_type": "execute_result",
          "data": {
            "text/plain": [
              "                                                   Text Language  num_words  \\\n",
              "5046  todos ellos son tambin multilinges libres estn...  Spanish         95   \n",
              "8123                                tantma memnun oldum  Turkish         25   \n",
              "838   each training example one inputs desired outpu...  English        104   \n",
              "3897  selon le journal science fin les effets sur l ...   French        166   \n",
              "7755                                mi dispiace davvero  Italian         20   \n",
              "\n",
              "      Label  \n",
              "5046      0  \n",
              "8123      1  \n",
              "838       2  \n",
              "3897      3  \n",
              "7755      4  "
            ],
            "text/html": [
              "\n",
              "  <div id=\"df-7eafec03-c803-472c-8e4f-68ec34aa1287\" class=\"colab-df-container\">\n",
              "    <div>\n",
              "<style scoped>\n",
              "    .dataframe tbody tr th:only-of-type {\n",
              "        vertical-align: middle;\n",
              "    }\n",
              "\n",
              "    .dataframe tbody tr th {\n",
              "        vertical-align: top;\n",
              "    }\n",
              "\n",
              "    .dataframe thead th {\n",
              "        text-align: right;\n",
              "    }\n",
              "</style>\n",
              "<table border=\"1\" class=\"dataframe\">\n",
              "  <thead>\n",
              "    <tr style=\"text-align: right;\">\n",
              "      <th></th>\n",
              "      <th>Text</th>\n",
              "      <th>Language</th>\n",
              "      <th>num_words</th>\n",
              "      <th>Label</th>\n",
              "    </tr>\n",
              "  </thead>\n",
              "  <tbody>\n",
              "    <tr>\n",
              "      <th>5046</th>\n",
              "      <td>todos ellos son tambin multilinges libres estn...</td>\n",
              "      <td>Spanish</td>\n",
              "      <td>95</td>\n",
              "      <td>0</td>\n",
              "    </tr>\n",
              "    <tr>\n",
              "      <th>8123</th>\n",
              "      <td>tantma memnun oldum</td>\n",
              "      <td>Turkish</td>\n",
              "      <td>25</td>\n",
              "      <td>1</td>\n",
              "    </tr>\n",
              "    <tr>\n",
              "      <th>838</th>\n",
              "      <td>each training example one inputs desired outpu...</td>\n",
              "      <td>English</td>\n",
              "      <td>104</td>\n",
              "      <td>2</td>\n",
              "    </tr>\n",
              "    <tr>\n",
              "      <th>3897</th>\n",
              "      <td>selon le journal science fin les effets sur l ...</td>\n",
              "      <td>French</td>\n",
              "      <td>166</td>\n",
              "      <td>3</td>\n",
              "    </tr>\n",
              "    <tr>\n",
              "      <th>7755</th>\n",
              "      <td>mi dispiace davvero</td>\n",
              "      <td>Italian</td>\n",
              "      <td>20</td>\n",
              "      <td>4</td>\n",
              "    </tr>\n",
              "  </tbody>\n",
              "</table>\n",
              "</div>\n",
              "    <div class=\"colab-df-buttons\">\n",
              "\n",
              "  <div class=\"colab-df-container\">\n",
              "    <button class=\"colab-df-convert\" onclick=\"convertToInteractive('df-7eafec03-c803-472c-8e4f-68ec34aa1287')\"\n",
              "            title=\"Convert this dataframe to an interactive table.\"\n",
              "            style=\"display:none;\">\n",
              "\n",
              "  <svg xmlns=\"http://www.w3.org/2000/svg\" height=\"24px\" viewBox=\"0 -960 960 960\">\n",
              "    <path d=\"M120-120v-720h720v720H120Zm60-500h600v-160H180v160Zm220 220h160v-160H400v160Zm0 220h160v-160H400v160ZM180-400h160v-160H180v160Zm440 0h160v-160H620v160ZM180-180h160v-160H180v160Zm440 0h160v-160H620v160Z\"/>\n",
              "  </svg>\n",
              "    </button>\n",
              "\n",
              "  <style>\n",
              "    .colab-df-container {\n",
              "      display:flex;\n",
              "      gap: 12px;\n",
              "    }\n",
              "\n",
              "    .colab-df-convert {\n",
              "      background-color: #E8F0FE;\n",
              "      border: none;\n",
              "      border-radius: 50%;\n",
              "      cursor: pointer;\n",
              "      display: none;\n",
              "      fill: #1967D2;\n",
              "      height: 32px;\n",
              "      padding: 0 0 0 0;\n",
              "      width: 32px;\n",
              "    }\n",
              "\n",
              "    .colab-df-convert:hover {\n",
              "      background-color: #E2EBFA;\n",
              "      box-shadow: 0px 1px 2px rgba(60, 64, 67, 0.3), 0px 1px 3px 1px rgba(60, 64, 67, 0.15);\n",
              "      fill: #174EA6;\n",
              "    }\n",
              "\n",
              "    .colab-df-buttons div {\n",
              "      margin-bottom: 4px;\n",
              "    }\n",
              "\n",
              "    [theme=dark] .colab-df-convert {\n",
              "      background-color: #3B4455;\n",
              "      fill: #D2E3FC;\n",
              "    }\n",
              "\n",
              "    [theme=dark] .colab-df-convert:hover {\n",
              "      background-color: #434B5C;\n",
              "      box-shadow: 0px 1px 3px 1px rgba(0, 0, 0, 0.15);\n",
              "      filter: drop-shadow(0px 1px 2px rgba(0, 0, 0, 0.3));\n",
              "      fill: #FFFFFF;\n",
              "    }\n",
              "  </style>\n",
              "\n",
              "    <script>\n",
              "      const buttonEl =\n",
              "        document.querySelector('#df-7eafec03-c803-472c-8e4f-68ec34aa1287 button.colab-df-convert');\n",
              "      buttonEl.style.display =\n",
              "        google.colab.kernel.accessAllowed ? 'block' : 'none';\n",
              "\n",
              "      async function convertToInteractive(key) {\n",
              "        const element = document.querySelector('#df-7eafec03-c803-472c-8e4f-68ec34aa1287');\n",
              "        const dataTable =\n",
              "          await google.colab.kernel.invokeFunction('convertToInteractive',\n",
              "                                                    [key], {});\n",
              "        if (!dataTable) return;\n",
              "\n",
              "        const docLinkHtml = 'Like what you see? Visit the ' +\n",
              "          '<a target=\"_blank\" href=https://colab.research.google.com/notebooks/data_table.ipynb>data table notebook</a>'\n",
              "          + ' to learn more about interactive tables.';\n",
              "        element.innerHTML = '';\n",
              "        dataTable['output_type'] = 'display_data';\n",
              "        await google.colab.output.renderOutput(dataTable, element);\n",
              "        const docLink = document.createElement('div');\n",
              "        docLink.innerHTML = docLinkHtml;\n",
              "        element.appendChild(docLink);\n",
              "      }\n",
              "    </script>\n",
              "  </div>\n",
              "\n",
              "\n",
              "<div id=\"df-24103a27-d311-4978-86d7-d2f89a163fa3\">\n",
              "  <button class=\"colab-df-quickchart\" onclick=\"quickchart('df-24103a27-d311-4978-86d7-d2f89a163fa3')\"\n",
              "            title=\"Suggest charts.\"\n",
              "            style=\"display:none;\">\n",
              "\n",
              "<svg xmlns=\"http://www.w3.org/2000/svg\" height=\"24px\"viewBox=\"0 0 24 24\"\n",
              "     width=\"24px\">\n",
              "    <g>\n",
              "        <path d=\"M19 3H5c-1.1 0-2 .9-2 2v14c0 1.1.9 2 2 2h14c1.1 0 2-.9 2-2V5c0-1.1-.9-2-2-2zM9 17H7v-7h2v7zm4 0h-2V7h2v10zm4 0h-2v-4h2v4z\"/>\n",
              "    </g>\n",
              "</svg>\n",
              "  </button>\n",
              "\n",
              "<style>\n",
              "  .colab-df-quickchart {\n",
              "    background-color: #E8F0FE;\n",
              "    border: none;\n",
              "    border-radius: 50%;\n",
              "    cursor: pointer;\n",
              "    display: none;\n",
              "    fill: #1967D2;\n",
              "    height: 32px;\n",
              "    padding: 0 0 0 0;\n",
              "    width: 32px;\n",
              "  }\n",
              "\n",
              "  .colab-df-quickchart:hover {\n",
              "    background-color: #E2EBFA;\n",
              "    box-shadow: 0px 1px 2px rgba(60, 64, 67, 0.3), 0px 1px 3px 1px rgba(60, 64, 67, 0.15);\n",
              "    fill: #174EA6;\n",
              "  }\n",
              "\n",
              "  [theme=dark] .colab-df-quickchart {\n",
              "    background-color: #3B4455;\n",
              "    fill: #D2E3FC;\n",
              "  }\n",
              "\n",
              "  [theme=dark] .colab-df-quickchart:hover {\n",
              "    background-color: #434B5C;\n",
              "    box-shadow: 0px 1px 3px 1px rgba(0, 0, 0, 0.15);\n",
              "    filter: drop-shadow(0px 1px 2px rgba(0, 0, 0, 0.3));\n",
              "    fill: #FFFFFF;\n",
              "  }\n",
              "</style>\n",
              "\n",
              "  <script>\n",
              "    async function quickchart(key) {\n",
              "      const charts = await google.colab.kernel.invokeFunction(\n",
              "          'suggestCharts', [key], {});\n",
              "    }\n",
              "    (() => {\n",
              "      let quickchartButtonEl =\n",
              "        document.querySelector('#df-24103a27-d311-4978-86d7-d2f89a163fa3 button');\n",
              "      quickchartButtonEl.style.display =\n",
              "        google.colab.kernel.accessAllowed ? 'block' : 'none';\n",
              "    })();\n",
              "  </script>\n",
              "</div>\n",
              "    </div>\n",
              "  </div>\n"
            ]
          },
          "metadata": {},
          "execution_count": 26
        }
      ]
    },
    {
      "cell_type": "code",
      "source": [
        "#Shuffle the rows of a DataFrame named preprocessed_df randomly. Shuffling the rows can be useful for tasks like splitting data into training and validation sets or ensuring randomness in your data before certain analyses."
      ],
      "metadata": {
        "id": "IHLeqH5wR6u2"
      },
      "execution_count": 27,
      "outputs": []
    },
    {
      "cell_type": "code",
      "source": [
        "preprocessed_df.sample(frac=1)"
      ],
      "metadata": {
        "papermill": {
          "duration": 0.029329,
          "end_time": "2022-12-20T21:37:58.480685",
          "exception": false,
          "start_time": "2022-12-20T21:37:58.451356",
          "status": "completed"
        },
        "tags": [],
        "execution": {
          "iopub.status.busy": "2022-12-21T09:34:03.815129Z",
          "iopub.execute_input": "2022-12-21T09:34:03.815678Z",
          "iopub.status.idle": "2022-12-21T09:34:03.833962Z",
          "shell.execute_reply.started": "2022-12-21T09:34:03.815636Z",
          "shell.execute_reply": "2022-12-21T09:34:03.833079Z"
        },
        "trusted": true,
        "colab": {
          "base_uri": "https://localhost:8080/",
          "height": 423
        },
        "id": "fjeR6NQhCIbG",
        "outputId": "1e14b92a-9d24-4670-e0cf-b07b67242731"
      },
      "execution_count": 28,
      "outputs": [
        {
          "output_type": "execute_result",
          "data": {
            "text/plain": [
              "                                                   Text    Language  \\\n",
              "8032                                zgnm diyebilirsiniz     Turkish   \n",
              "8865                              jag r upptagen morgon     Swedish   \n",
              "777   the term machine learning coined arthur samuel...     English   \n",
              "7091  hvad hej jeg er kommet bede om narcissus gtesk...      Danish   \n",
              "684   he said lack freedom forced wikipedia the seve...     English   \n",
              "...                                                 ...         ...   \n",
              "385   statistical analyses suggest committee ignores...     English   \n",
              "8947  got annat men jag vill ha normalt brdbrd som j...     Swedish   \n",
              "8904                                jag har rtt med dig     Swedish   \n",
              "2787  em sua ideia original wikipdia tinha sido feit...  Portuguese   \n",
              "8899                                           mitt nje     Swedish   \n",
              "\n",
              "      num_words  Label  \n",
              "8032         23      1  \n",
              "8865         25      9  \n",
              "777         157      2  \n",
              "7091        110      6  \n",
              "684         209      2  \n",
              "...         ...    ...  \n",
              "385         332      2  \n",
              "8947        184      9  \n",
              "8904         21      9  \n",
              "2787        192      7  \n",
              "8899         10      9  \n",
              "\n",
              "[7249 rows x 4 columns]"
            ],
            "text/html": [
              "\n",
              "  <div id=\"df-086a63ba-8e29-456f-9bed-e4ecbb16a104\" class=\"colab-df-container\">\n",
              "    <div>\n",
              "<style scoped>\n",
              "    .dataframe tbody tr th:only-of-type {\n",
              "        vertical-align: middle;\n",
              "    }\n",
              "\n",
              "    .dataframe tbody tr th {\n",
              "        vertical-align: top;\n",
              "    }\n",
              "\n",
              "    .dataframe thead th {\n",
              "        text-align: right;\n",
              "    }\n",
              "</style>\n",
              "<table border=\"1\" class=\"dataframe\">\n",
              "  <thead>\n",
              "    <tr style=\"text-align: right;\">\n",
              "      <th></th>\n",
              "      <th>Text</th>\n",
              "      <th>Language</th>\n",
              "      <th>num_words</th>\n",
              "      <th>Label</th>\n",
              "    </tr>\n",
              "  </thead>\n",
              "  <tbody>\n",
              "    <tr>\n",
              "      <th>8032</th>\n",
              "      <td>zgnm diyebilirsiniz</td>\n",
              "      <td>Turkish</td>\n",
              "      <td>23</td>\n",
              "      <td>1</td>\n",
              "    </tr>\n",
              "    <tr>\n",
              "      <th>8865</th>\n",
              "      <td>jag r upptagen morgon</td>\n",
              "      <td>Swedish</td>\n",
              "      <td>25</td>\n",
              "      <td>9</td>\n",
              "    </tr>\n",
              "    <tr>\n",
              "      <th>777</th>\n",
              "      <td>the term machine learning coined arthur samuel...</td>\n",
              "      <td>English</td>\n",
              "      <td>157</td>\n",
              "      <td>2</td>\n",
              "    </tr>\n",
              "    <tr>\n",
              "      <th>7091</th>\n",
              "      <td>hvad hej jeg er kommet bede om narcissus gtesk...</td>\n",
              "      <td>Danish</td>\n",
              "      <td>110</td>\n",
              "      <td>6</td>\n",
              "    </tr>\n",
              "    <tr>\n",
              "      <th>684</th>\n",
              "      <td>he said lack freedom forced wikipedia the seve...</td>\n",
              "      <td>English</td>\n",
              "      <td>209</td>\n",
              "      <td>2</td>\n",
              "    </tr>\n",
              "    <tr>\n",
              "      <th>...</th>\n",
              "      <td>...</td>\n",
              "      <td>...</td>\n",
              "      <td>...</td>\n",
              "      <td>...</td>\n",
              "    </tr>\n",
              "    <tr>\n",
              "      <th>385</th>\n",
              "      <td>statistical analyses suggest committee ignores...</td>\n",
              "      <td>English</td>\n",
              "      <td>332</td>\n",
              "      <td>2</td>\n",
              "    </tr>\n",
              "    <tr>\n",
              "      <th>8947</th>\n",
              "      <td>got annat men jag vill ha normalt brdbrd som j...</td>\n",
              "      <td>Swedish</td>\n",
              "      <td>184</td>\n",
              "      <td>9</td>\n",
              "    </tr>\n",
              "    <tr>\n",
              "      <th>8904</th>\n",
              "      <td>jag har rtt med dig</td>\n",
              "      <td>Swedish</td>\n",
              "      <td>21</td>\n",
              "      <td>9</td>\n",
              "    </tr>\n",
              "    <tr>\n",
              "      <th>2787</th>\n",
              "      <td>em sua ideia original wikipdia tinha sido feit...</td>\n",
              "      <td>Portuguese</td>\n",
              "      <td>192</td>\n",
              "      <td>7</td>\n",
              "    </tr>\n",
              "    <tr>\n",
              "      <th>8899</th>\n",
              "      <td>mitt nje</td>\n",
              "      <td>Swedish</td>\n",
              "      <td>10</td>\n",
              "      <td>9</td>\n",
              "    </tr>\n",
              "  </tbody>\n",
              "</table>\n",
              "<p>7249 rows × 4 columns</p>\n",
              "</div>\n",
              "    <div class=\"colab-df-buttons\">\n",
              "\n",
              "  <div class=\"colab-df-container\">\n",
              "    <button class=\"colab-df-convert\" onclick=\"convertToInteractive('df-086a63ba-8e29-456f-9bed-e4ecbb16a104')\"\n",
              "            title=\"Convert this dataframe to an interactive table.\"\n",
              "            style=\"display:none;\">\n",
              "\n",
              "  <svg xmlns=\"http://www.w3.org/2000/svg\" height=\"24px\" viewBox=\"0 -960 960 960\">\n",
              "    <path d=\"M120-120v-720h720v720H120Zm60-500h600v-160H180v160Zm220 220h160v-160H400v160Zm0 220h160v-160H400v160ZM180-400h160v-160H180v160Zm440 0h160v-160H620v160ZM180-180h160v-160H180v160Zm440 0h160v-160H620v160Z\"/>\n",
              "  </svg>\n",
              "    </button>\n",
              "\n",
              "  <style>\n",
              "    .colab-df-container {\n",
              "      display:flex;\n",
              "      gap: 12px;\n",
              "    }\n",
              "\n",
              "    .colab-df-convert {\n",
              "      background-color: #E8F0FE;\n",
              "      border: none;\n",
              "      border-radius: 50%;\n",
              "      cursor: pointer;\n",
              "      display: none;\n",
              "      fill: #1967D2;\n",
              "      height: 32px;\n",
              "      padding: 0 0 0 0;\n",
              "      width: 32px;\n",
              "    }\n",
              "\n",
              "    .colab-df-convert:hover {\n",
              "      background-color: #E2EBFA;\n",
              "      box-shadow: 0px 1px 2px rgba(60, 64, 67, 0.3), 0px 1px 3px 1px rgba(60, 64, 67, 0.15);\n",
              "      fill: #174EA6;\n",
              "    }\n",
              "\n",
              "    .colab-df-buttons div {\n",
              "      margin-bottom: 4px;\n",
              "    }\n",
              "\n",
              "    [theme=dark] .colab-df-convert {\n",
              "      background-color: #3B4455;\n",
              "      fill: #D2E3FC;\n",
              "    }\n",
              "\n",
              "    [theme=dark] .colab-df-convert:hover {\n",
              "      background-color: #434B5C;\n",
              "      box-shadow: 0px 1px 3px 1px rgba(0, 0, 0, 0.15);\n",
              "      filter: drop-shadow(0px 1px 2px rgba(0, 0, 0, 0.3));\n",
              "      fill: #FFFFFF;\n",
              "    }\n",
              "  </style>\n",
              "\n",
              "    <script>\n",
              "      const buttonEl =\n",
              "        document.querySelector('#df-086a63ba-8e29-456f-9bed-e4ecbb16a104 button.colab-df-convert');\n",
              "      buttonEl.style.display =\n",
              "        google.colab.kernel.accessAllowed ? 'block' : 'none';\n",
              "\n",
              "      async function convertToInteractive(key) {\n",
              "        const element = document.querySelector('#df-086a63ba-8e29-456f-9bed-e4ecbb16a104');\n",
              "        const dataTable =\n",
              "          await google.colab.kernel.invokeFunction('convertToInteractive',\n",
              "                                                    [key], {});\n",
              "        if (!dataTable) return;\n",
              "\n",
              "        const docLinkHtml = 'Like what you see? Visit the ' +\n",
              "          '<a target=\"_blank\" href=https://colab.research.google.com/notebooks/data_table.ipynb>data table notebook</a>'\n",
              "          + ' to learn more about interactive tables.';\n",
              "        element.innerHTML = '';\n",
              "        dataTable['output_type'] = 'display_data';\n",
              "        await google.colab.output.renderOutput(dataTable, element);\n",
              "        const docLink = document.createElement('div');\n",
              "        docLink.innerHTML = docLinkHtml;\n",
              "        element.appendChild(docLink);\n",
              "      }\n",
              "    </script>\n",
              "  </div>\n",
              "\n",
              "\n",
              "<div id=\"df-1d738049-7fea-4541-ae5c-7cfc098098ed\">\n",
              "  <button class=\"colab-df-quickchart\" onclick=\"quickchart('df-1d738049-7fea-4541-ae5c-7cfc098098ed')\"\n",
              "            title=\"Suggest charts.\"\n",
              "            style=\"display:none;\">\n",
              "\n",
              "<svg xmlns=\"http://www.w3.org/2000/svg\" height=\"24px\"viewBox=\"0 0 24 24\"\n",
              "     width=\"24px\">\n",
              "    <g>\n",
              "        <path d=\"M19 3H5c-1.1 0-2 .9-2 2v14c0 1.1.9 2 2 2h14c1.1 0 2-.9 2-2V5c0-1.1-.9-2-2-2zM9 17H7v-7h2v7zm4 0h-2V7h2v10zm4 0h-2v-4h2v4z\"/>\n",
              "    </g>\n",
              "</svg>\n",
              "  </button>\n",
              "\n",
              "<style>\n",
              "  .colab-df-quickchart {\n",
              "    background-color: #E8F0FE;\n",
              "    border: none;\n",
              "    border-radius: 50%;\n",
              "    cursor: pointer;\n",
              "    display: none;\n",
              "    fill: #1967D2;\n",
              "    height: 32px;\n",
              "    padding: 0 0 0 0;\n",
              "    width: 32px;\n",
              "  }\n",
              "\n",
              "  .colab-df-quickchart:hover {\n",
              "    background-color: #E2EBFA;\n",
              "    box-shadow: 0px 1px 2px rgba(60, 64, 67, 0.3), 0px 1px 3px 1px rgba(60, 64, 67, 0.15);\n",
              "    fill: #174EA6;\n",
              "  }\n",
              "\n",
              "  [theme=dark] .colab-df-quickchart {\n",
              "    background-color: #3B4455;\n",
              "    fill: #D2E3FC;\n",
              "  }\n",
              "\n",
              "  [theme=dark] .colab-df-quickchart:hover {\n",
              "    background-color: #434B5C;\n",
              "    box-shadow: 0px 1px 3px 1px rgba(0, 0, 0, 0.15);\n",
              "    filter: drop-shadow(0px 1px 2px rgba(0, 0, 0, 0.3));\n",
              "    fill: #FFFFFF;\n",
              "  }\n",
              "</style>\n",
              "\n",
              "  <script>\n",
              "    async function quickchart(key) {\n",
              "      const charts = await google.colab.kernel.invokeFunction(\n",
              "          'suggestCharts', [key], {});\n",
              "    }\n",
              "    (() => {\n",
              "      let quickchartButtonEl =\n",
              "        document.querySelector('#df-1d738049-7fea-4541-ae5c-7cfc098098ed button');\n",
              "      quickchartButtonEl.style.display =\n",
              "        google.colab.kernel.accessAllowed ? 'block' : 'none';\n",
              "    })();\n",
              "  </script>\n",
              "</div>\n",
              "    </div>\n",
              "  </div>\n"
            ]
          },
          "metadata": {},
          "execution_count": 28
        }
      ]
    },
    {
      "cell_type": "markdown",
      "source": [
        "## Splitting the preprocessed dataset into train and test sets"
      ],
      "metadata": {
        "papermill": {
          "duration": 0.013876,
          "end_time": "2022-12-20T21:37:58.508653",
          "exception": false,
          "start_time": "2022-12-20T21:37:58.494777",
          "status": "completed"
        },
        "tags": [],
        "id": "_5wWhz7qCIbG"
      }
    },
    {
      "cell_type": "code",
      "source": [
        "train_df, test_df = train_test_split(preprocessed_df,test_size=0.3,random_state=42,shuffle=True,stratify=preprocessed_df.Language)"
      ],
      "metadata": {
        "papermill": {
          "duration": 0.028703,
          "end_time": "2022-12-20T21:37:58.551551",
          "exception": false,
          "start_time": "2022-12-20T21:37:58.522848",
          "status": "completed"
        },
        "tags": [],
        "execution": {
          "iopub.status.busy": "2022-12-21T09:34:03.835260Z",
          "iopub.execute_input": "2022-12-21T09:34:03.835692Z",
          "iopub.status.idle": "2022-12-21T09:34:03.849743Z",
          "shell.execute_reply.started": "2022-12-21T09:34:03.835656Z",
          "shell.execute_reply": "2022-12-21T09:34:03.848514Z"
        },
        "trusted": true,
        "id": "QT6uXqGvCIbG"
      },
      "execution_count": 29,
      "outputs": []
    },
    {
      "cell_type": "markdown",
      "source": [
        "## Downloading the pretrained tokenizer and xlm-roberta-base language detection model"
      ],
      "metadata": {
        "papermill": {
          "duration": 0.014024,
          "end_time": "2022-12-20T21:37:58.580511",
          "exception": false,
          "start_time": "2022-12-20T21:37:58.566487",
          "status": "completed"
        },
        "tags": [],
        "id": "3MJVanzSCIbG"
      }
    },
    {
      "cell_type": "code",
      "source": [
        "tokenizer = AutoTokenizer.from_pretrained(\"papluca/xlm-roberta-base-language-detection\")\n",
        "xlm = TFAutoModelForSequenceClassification.from_pretrained(\"papluca/xlm-roberta-base-language-detection\",from_pt=True)"
      ],
      "metadata": {
        "papermill": {
          "duration": 62.211684,
          "end_time": "2022-12-20T21:39:00.806995",
          "exception": false,
          "start_time": "2022-12-20T21:37:58.595311",
          "status": "completed"
        },
        "tags": [],
        "execution": {
          "iopub.status.busy": "2022-12-21T09:34:03.851243Z",
          "iopub.execute_input": "2022-12-21T09:34:03.851764Z",
          "iopub.status.idle": "2022-12-21T09:34:41.893290Z",
          "shell.execute_reply.started": "2022-12-21T09:34:03.851724Z",
          "shell.execute_reply": "2022-12-21T09:34:41.892374Z"
        },
        "trusted": true,
        "colab": {
          "base_uri": "https://localhost:8080/",
          "height": 316,
          "referenced_widgets": [
            "d11a7d1a12d647e2a7e255c3dcae3899",
            "78eb3f2258fc4e1bb49344ae58c200f0",
            "82fd47eec77a432ba1f330c33d17dbc9",
            "36bcca616dee454dbb8beeea95ef469b",
            "70249fbcf6f94f91a0af0c56aea1bf6c",
            "efc9f3ad86534dc8b89054488125a03c",
            "b19c2ac2006d4204bdbd119a48443bb0",
            "f050240e6fb14ee99d5c1d5ddffe18f0",
            "2e3f964433024973a246e4aec0ff74f8",
            "3a5e561c8e8d4c7abeba910dbf6234c8",
            "d04ed2503c2540e0a2b387453a8469be",
            "d4dfb323f04f4cd1801d6720f9980476",
            "342678d87a8b46c7b4221e2e2d7db1e4",
            "7828027f18944e98a1ad321639fd1b87",
            "bb69c3fd9c584fa49e87f9c5f48d575e",
            "09180d789e3b4e00969330b888e2d397",
            "6716d7b681594328851cb1b3828ab5e4",
            "baecb74959c34a61b6e7af429a8c307a",
            "b1611ef84d4b424f87429b4c8e19ca3d",
            "a3e6276247d94296b4e24c5516facbe7",
            "25ce760dee214851b25a7ccdc694f9dc",
            "36763f3565e74d88bb777aa8fffbaa84",
            "7000fcc0f2e841d995f715cbb9dadbac",
            "42580b0e8d864028bf8c3867d4f9862a",
            "411bc72f40164b6694e2049641659662",
            "a79d10bda409429c9673fa033299f461",
            "18f3bf87838d4df9a04f4f5103d872d2",
            "ac491cff7640440589f2ae0d4c0b4b41",
            "ea42ca138b8a4d9285524f88fb9a17b3",
            "e223b6cf08694ca79334be6b1cf2399c",
            "825417b4017d44a0a72a131a9539d2aa",
            "eb6b938e700241a09997ca6dea99af71",
            "20f629cffa734fc3800e60e985a0e83c",
            "f89691fdf7bf425999f9207d7a18cbc6",
            "7a3dbd2c938948c3b27cc3b3d0a20633",
            "7b12097ce6dd4543b415ee65b7473690",
            "d9b9936d01d94a939e209f884efb55d8",
            "a7009b72f3dd477489b5c679428ab2d7",
            "f9fe491d8ac5480a8b25ca4c78556e63",
            "8caa76f31d6749cfb9ca1e9c1f6b5f6f",
            "1481c4bb3acd41eeb096b45fdd7366e7",
            "227e41ec25c24029b16d28f759de18b0",
            "9efafe74def24bc3a197ba0e95b94ec7",
            "5c7e9573ddb54573a1c1dfc0a657f938",
            "8fe07a66594d48ef890f70fd16d43d22",
            "70ade26e960044e8bfffaa7458c3a4e5",
            "5a8ff383f96c4d38b7998c7792a4fe40",
            "2f3c2ef3f2bc4ab5908d4bb8060d67cf",
            "62c9312e3aef40ffbc5bb136b5a5b3db",
            "50eedbe51d1d4d6d9d737f86610950dd",
            "38f7ae17989041b7ad214a3f77ae3d82",
            "b25e0a4755884ba194942d04e320fcff",
            "2a75bea2763a437687f820a9fb14f820",
            "d92c61e06c484638bff794b8ddcc303d",
            "7c6f4f4150294cba8d67e10bfe369f27",
            "0dc88945e9bb4e8185da043571b77042",
            "4c299421f428409da49a096f196c6e89",
            "0abd407ffbde4d3f98079f4c1fda81ee",
            "f2325aae64cd45cc9756ba7f8b8d7082",
            "ae1fc872844b4f99a3c4c52c5ed910b6",
            "189c6c04840c4da8b6fae7f763e9d357",
            "2f56d33cff16437883d032aeb571456d",
            "410ae20b946c421791bdb0a069200833",
            "533d647a1c4042f48244ffe8233b6459",
            "653f4f7efaea49438da5359460010843",
            "34474641205f4a338bfc93e1daaa2f97"
          ]
        },
        "id": "K2CMv-3SCIbH",
        "outputId": "86024b98-ebb4-4cec-c1a6-2a9ba8ad678c"
      },
      "execution_count": 30,
      "outputs": [
        {
          "output_type": "display_data",
          "data": {
            "text/plain": [
              "Downloading (…)okenizer_config.json:   0%|          | 0.00/502 [00:00<?, ?B/s]"
            ],
            "application/vnd.jupyter.widget-view+json": {
              "version_major": 2,
              "version_minor": 0,
              "model_id": "d11a7d1a12d647e2a7e255c3dcae3899"
            }
          },
          "metadata": {}
        },
        {
          "output_type": "display_data",
          "data": {
            "text/plain": [
              "Downloading (…)tencepiece.bpe.model:   0%|          | 0.00/5.07M [00:00<?, ?B/s]"
            ],
            "application/vnd.jupyter.widget-view+json": {
              "version_major": 2,
              "version_minor": 0,
              "model_id": "d4dfb323f04f4cd1801d6720f9980476"
            }
          },
          "metadata": {}
        },
        {
          "output_type": "display_data",
          "data": {
            "text/plain": [
              "Downloading (…)/main/tokenizer.json:   0%|          | 0.00/9.08M [00:00<?, ?B/s]"
            ],
            "application/vnd.jupyter.widget-view+json": {
              "version_major": 2,
              "version_minor": 0,
              "model_id": "7000fcc0f2e841d995f715cbb9dadbac"
            }
          },
          "metadata": {}
        },
        {
          "output_type": "display_data",
          "data": {
            "text/plain": [
              "Downloading (…)cial_tokens_map.json:   0%|          | 0.00/239 [00:00<?, ?B/s]"
            ],
            "application/vnd.jupyter.widget-view+json": {
              "version_major": 2,
              "version_minor": 0,
              "model_id": "f89691fdf7bf425999f9207d7a18cbc6"
            }
          },
          "metadata": {}
        },
        {
          "output_type": "display_data",
          "data": {
            "text/plain": [
              "Downloading (…)lve/main/config.json:   0%|          | 0.00/1.42k [00:00<?, ?B/s]"
            ],
            "application/vnd.jupyter.widget-view+json": {
              "version_major": 2,
              "version_minor": 0,
              "model_id": "8fe07a66594d48ef890f70fd16d43d22"
            }
          },
          "metadata": {}
        },
        {
          "output_type": "display_data",
          "data": {
            "text/plain": [
              "Downloading pytorch_model.bin:   0%|          | 0.00/1.11G [00:00<?, ?B/s]"
            ],
            "application/vnd.jupyter.widget-view+json": {
              "version_major": 2,
              "version_minor": 0,
              "model_id": "0dc88945e9bb4e8185da043571b77042"
            }
          },
          "metadata": {}
        },
        {
          "output_type": "stream",
          "name": "stderr",
          "text": [
            "Some weights of the PyTorch model were not used when initializing the TF 2.0 model TFXLMRobertaForSequenceClassification: ['roberta.embeddings.position_ids']\n",
            "- This IS expected if you are initializing TFXLMRobertaForSequenceClassification from a PyTorch model trained on another task or with another architecture (e.g. initializing a TFBertForSequenceClassification model from a BertForPreTraining model).\n",
            "- This IS NOT expected if you are initializing TFXLMRobertaForSequenceClassification from a PyTorch model that you expect to be exactly identical (e.g. initializing a TFBertForSequenceClassification model from a BertForSequenceClassification model).\n",
            "All the weights of TFXLMRobertaForSequenceClassification were initialized from the PyTorch model.\n",
            "If your task is similar to the task the model of the checkpoint was trained on, you can already use TFXLMRobertaForSequenceClassification for predictions without further training.\n"
          ]
        }
      ]
    },
    {
      "cell_type": "markdown",
      "source": [
        "## Performing text tokenization"
      ],
      "metadata": {
        "papermill": {
          "duration": 0.017114,
          "end_time": "2022-12-20T21:39:00.841049",
          "exception": false,
          "start_time": "2022-12-20T21:39:00.823935",
          "status": "completed"
        },
        "tags": [],
        "id": "xdRf5MN5CIbH"
      }
    },
    {
      "cell_type": "code",
      "source": [
        "X_train = tokenizer(text=train_df.Text.tolist(),\n",
        "                   max_length=max_len,\n",
        "                   padding=True,\n",
        "                   truncation=True,\n",
        "                   add_special_tokens=True,\n",
        "                   return_tensors=\"tf\",\n",
        "                   return_attention_mask=True,\n",
        "                   return_token_type_ids=False,\n",
        "                   verbose=True)\n",
        "\n",
        "X_test = tokenizer(text=test_df.Text.tolist(),\n",
        "                  max_length=max_len,\n",
        "                  padding=True,\n",
        "                  truncation=True,\n",
        "                  add_special_tokens=True,\n",
        "                  return_tensors=\"tf\",\n",
        "                  return_attention_mask=True,\n",
        "                  return_token_type_ids=False,\n",
        "                  verbose=True)"
      ],
      "metadata": {
        "papermill": {
          "duration": 0.747367,
          "end_time": "2022-12-20T21:39:01.605286",
          "exception": false,
          "start_time": "2022-12-20T21:39:00.857919",
          "status": "completed"
        },
        "tags": [],
        "execution": {
          "iopub.status.busy": "2022-12-21T09:34:41.894874Z",
          "iopub.execute_input": "2022-12-21T09:34:41.895833Z",
          "iopub.status.idle": "2022-12-21T09:34:42.690564Z",
          "shell.execute_reply.started": "2022-12-21T09:34:41.895790Z",
          "shell.execute_reply": "2022-12-21T09:34:42.689482Z"
        },
        "trusted": true,
        "id": "htE7kpeECIbH"
      },
      "execution_count": 49,
      "outputs": []
    },
    {
      "cell_type": "markdown",
      "source": [
        "## Fine-tuning the pretrained xlm-roberta-base language detection model"
      ],
      "metadata": {
        "papermill": {
          "duration": 0.016425,
          "end_time": "2022-12-20T21:39:01.638765",
          "exception": false,
          "start_time": "2022-12-20T21:39:01.622340",
          "status": "completed"
        },
        "tags": [],
        "id": "eMcLe6ILCIbI"
      }
    },
    {
      "cell_type": "code",
      "source": [
        "input_ids = Input(shape=(max_len,),dtype=tf.int32,name='input_ids')\n",
        "attention_mask = Input(shape=(max_len,),dtype=tf.int32,name='attention_mask')"
      ],
      "metadata": {
        "papermill": {
          "duration": 0.028993,
          "end_time": "2022-12-20T21:39:01.683007",
          "exception": false,
          "start_time": "2022-12-20T21:39:01.654014",
          "status": "completed"
        },
        "tags": [],
        "execution": {
          "iopub.status.busy": "2022-12-21T09:34:42.693023Z",
          "iopub.execute_input": "2022-12-21T09:34:42.694019Z",
          "iopub.status.idle": "2022-12-21T09:34:42.703734Z",
          "shell.execute_reply.started": "2022-12-21T09:34:42.693977Z",
          "shell.execute_reply": "2022-12-21T09:34:42.702550Z"
        },
        "trusted": true,
        "id": "J4rw0a0aCIbI"
      },
      "execution_count": 50,
      "outputs": []
    },
    {
      "cell_type": "code",
      "source": [
        "embeddings = xlm(input_ids,attention_mask=attention_mask)[0] # 0 --> final hidden state, 1 --> pooling output\n",
        "output = Flatten()(embeddings)\n",
        "output = Dense(units=1024,activation='relu')(output)\n",
        "output = Dropout(0.3)(output)\n",
        "output = Dense(units=512,activation='relu')(output)\n",
        "output = Dropout(0.2)(output)\n",
        "output = Dense(units=512,activation='relu')(output)\n",
        "output = Dropout(0.2)(output)\n",
        "output = Dense(units=128,activation='relu')(output)\n",
        "output = Dense(units=10,activation='softmax')(output)\n",
        "\n",
        "model = Model(inputs=[input_ids,attention_mask],outputs=output)\n",
        "model.layers[2].trainable = True"
      ],
      "metadata": {
        "papermill": {
          "duration": 8.781098,
          "end_time": "2022-12-20T21:39:10.479195",
          "exception": false,
          "start_time": "2022-12-20T21:39:01.698097",
          "status": "completed"
        },
        "tags": [],
        "execution": {
          "iopub.status.busy": "2022-12-21T09:34:42.707041Z",
          "iopub.execute_input": "2022-12-21T09:34:42.707959Z",
          "iopub.status.idle": "2022-12-21T09:34:51.197557Z",
          "shell.execute_reply.started": "2022-12-21T09:34:42.707918Z",
          "shell.execute_reply": "2022-12-21T09:34:51.196566Z"
        },
        "trusted": true,
        "id": "hzOsmdzrCIbI"
      },
      "execution_count": 51,
      "outputs": []
    },
    {
      "cell_type": "markdown",
      "source": [
        "## Model Architecture"
      ],
      "metadata": {
        "papermill": {
          "duration": 0.014975,
          "end_time": "2022-12-20T21:39:10.510051",
          "exception": false,
          "start_time": "2022-12-20T21:39:10.495076",
          "status": "completed"
        },
        "tags": [],
        "id": "rga0bwpcCIbI"
      }
    },
    {
      "cell_type": "code",
      "source": [
        "model.summary()"
      ],
      "metadata": {
        "papermill": {
          "duration": 0.038862,
          "end_time": "2022-12-20T21:39:10.564069",
          "exception": false,
          "start_time": "2022-12-20T21:39:10.525207",
          "status": "completed"
        },
        "tags": [],
        "execution": {
          "iopub.status.busy": "2022-12-21T09:34:51.199166Z",
          "iopub.execute_input": "2022-12-21T09:34:51.199831Z",
          "iopub.status.idle": "2022-12-21T09:34:51.218783Z",
          "shell.execute_reply.started": "2022-12-21T09:34:51.199793Z",
          "shell.execute_reply": "2022-12-21T09:34:51.217511Z"
        },
        "trusted": true,
        "colab": {
          "base_uri": "https://localhost:8080/"
        },
        "id": "hXqHhMSjCIbJ",
        "outputId": "73a2a032-1c05-44a8-8e33-e1ca06c59510"
      },
      "execution_count": 52,
      "outputs": [
        {
          "output_type": "stream",
          "name": "stdout",
          "text": [
            "Model: \"model_2\"\n",
            "__________________________________________________________________________________________________\n",
            " Layer (type)                   Output Shape         Param #     Connected to                     \n",
            "==================================================================================================\n",
            " input_ids (InputLayer)         [(None, 125)]        0           []                               \n",
            "                                                                                                  \n",
            " attention_mask (InputLayer)    [(None, 125)]        0           []                               \n",
            "                                                                                                  \n",
            " tfxlm_roberta_for_sequence_cla  TFSequenceClassifie  278059028  ['input_ids[0][0]',              \n",
            " ssification (TFXLMRobertaForSe  rOutput(loss=None,               'attention_mask[0][0]']         \n",
            " quenceClassification)          logits=(None, 20),                                                \n",
            "                                 hidden_states=None                                               \n",
            "                                , attentions=None)                                                \n",
            "                                                                                                  \n",
            " flatten_2 (Flatten)            (None, 20)           0           ['tfxlm_roberta_for_sequence_clas\n",
            "                                                                 sification[2][0]']               \n",
            "                                                                                                  \n",
            " dense_10 (Dense)               (None, 1024)         21504       ['flatten_2[0][0]']              \n",
            "                                                                                                  \n",
            " dropout_44 (Dropout)           (None, 1024)         0           ['dense_10[0][0]']               \n",
            "                                                                                                  \n",
            " dense_11 (Dense)               (None, 512)          524800      ['dropout_44[0][0]']             \n",
            "                                                                                                  \n",
            " dropout_45 (Dropout)           (None, 512)          0           ['dense_11[0][0]']               \n",
            "                                                                                                  \n",
            " dense_12 (Dense)               (None, 512)          262656      ['dropout_45[0][0]']             \n",
            "                                                                                                  \n",
            " dropout_46 (Dropout)           (None, 512)          0           ['dense_12[0][0]']               \n",
            "                                                                                                  \n",
            " dense_13 (Dense)               (None, 128)          65664       ['dropout_46[0][0]']             \n",
            "                                                                                                  \n",
            " dense_14 (Dense)               (None, 10)           1290        ['dense_13[0][0]']               \n",
            "                                                                                                  \n",
            "==================================================================================================\n",
            "Total params: 278,934,942\n",
            "Trainable params: 278,934,942\n",
            "Non-trainable params: 0\n",
            "__________________________________________________________________________________________________\n"
          ]
        }
      ]
    },
    {
      "cell_type": "code",
      "source": [
        "plot_model(model,'model.png',show_shapes=True,dpi=100,rankdir='TB')"
      ],
      "metadata": {
        "papermill": {
          "duration": 2.366584,
          "end_time": "2022-12-20T21:39:12.947486",
          "exception": false,
          "start_time": "2022-12-20T21:39:10.580902",
          "status": "completed"
        },
        "tags": [],
        "execution": {
          "iopub.status.busy": "2022-12-21T09:34:51.220261Z",
          "iopub.execute_input": "2022-12-21T09:34:51.220772Z",
          "iopub.status.idle": "2022-12-21T09:34:52.492432Z",
          "shell.execute_reply.started": "2022-12-21T09:34:51.220729Z",
          "shell.execute_reply": "2022-12-21T09:34:52.491123Z"
        },
        "trusted": true,
        "colab": {
          "base_uri": "https://localhost:8080/",
          "height": 1000
        },
        "id": "HUp-tg7JCIbJ",
        "outputId": "8c91783c-0593-4133-db7e-a7b2dc2c2bfe"
      },
      "execution_count": 53,
      "outputs": [
        {
          "output_type": "execute_result",
          "data": {
            "image/png": "[encoded data removed]",
            "text/plain": [
              "<IPython.core.display.Image object>"
            ]
          },
          "metadata": {},
          "execution_count": 53
        }
      ]
    },
    {
      "cell_type": "markdown",
      "source": [
        "## Compiling the model"
      ],
      "metadata": {
        "papermill": {
          "duration": 0.017515,
          "end_time": "2022-12-20T21:39:12.983202",
          "exception": false,
          "start_time": "2022-12-20T21:39:12.965687",
          "status": "completed"
        },
        "tags": [],
        "id": "-dEJLTMnCIbL"
      }
    },
    {
      "cell_type": "code",
      "source": [
        "optimizer = tf.keras.optimizers.legacy.Adam(learning_rate=5e-5,epsilon=2e-8,decay=0.01,clipnorm=1.0)\n",
        "loss = CategoricalCrossentropy()\n",
        "metrics = CategoricalAccuracy('balanced_accuracy')\n",
        "model.compile(loss=loss,optimizer=optimizer,metrics=metrics)"
      ],
      "metadata": {
        "papermill": {
          "duration": 0.048559,
          "end_time": "2022-12-20T21:39:13.049994",
          "exception": false,
          "start_time": "2022-12-20T21:39:13.001435",
          "status": "completed"
        },
        "tags": [],
        "execution": {
          "iopub.status.busy": "2022-12-21T09:34:52.494237Z",
          "iopub.execute_input": "2022-12-21T09:34:52.495059Z",
          "iopub.status.idle": "2022-12-21T09:34:52.523272Z",
          "shell.execute_reply.started": "2022-12-21T09:34:52.495012Z",
          "shell.execute_reply": "2022-12-21T09:34:52.522386Z"
        },
        "trusted": true,
        "id": "VR6IQ-YGCIbL"
      },
      "execution_count": 55,
      "outputs": []
    },
    {
      "cell_type": "markdown",
      "source": [
        "## Training the fine-tuned XLM-Roberta-Base transformer model"
      ],
      "metadata": {
        "papermill": {
          "duration": 0.01706,
          "end_time": "2022-12-20T21:39:13.084741",
          "exception": false,
          "start_time": "2022-12-20T21:39:13.067681",
          "status": "completed"
        },
        "tags": [],
        "id": "Iw02r-cACIbM"
      }
    },
    {
      "cell_type": "code",
      "source": [
        "es = EarlyStopping(monitor='val_balanced_accuracy',patience=20,verbose=1,mode='max',restore_best_weights=True)\n",
        "mc = ModelCheckpoint(filepath='checkpoint',monitor='val_balanced_accuracy',mode='max',save_best_only=True,verbose=1)\n",
        "\n",
        "r = model.fit(x={'input_ids': X_train['input_ids'], 'attention_mask': X_train['attention_mask']},\n",
        "              y=to_categorical(train_df.Label),\n",
        "              epochs=5,\n",
        "              batch_size=20,\n",
        "              callbacks=[es,mc],\n",
        "              validation_data=({'input_ids': X_test['input_ids'], 'attention_mask': X_test['attention_mask']},to_categorical(test_df.Label))\n",
        "             )"
      ],
      "metadata": {
        "papermill": {
          "duration": 9070.276096,
          "end_time": "2022-12-21T00:10:23.377936",
          "exception": false,
          "start_time": "2022-12-20T21:39:13.101840",
          "status": "completed"
        },
        "tags": [],
        "execution": {
          "iopub.status.busy": "2022-12-21T09:34:52.528792Z",
          "iopub.execute_input": "2022-12-21T09:34:52.529070Z",
          "iopub.status.idle": "2022-12-21T10:43:11.811108Z",
          "shell.execute_reply.started": "2022-12-21T09:34:52.529043Z",
          "shell.execute_reply": "2022-12-21T10:43:11.810111Z"
        },
        "trusted": true,
        "colab": {
          "base_uri": "https://localhost:8080/"
        },
        "id": "MzRATKVPCIbM",
        "outputId": "2c202851-e27d-48ee-8bb9-972bbbdd40ea"
      },
      "execution_count": 56,
      "outputs": [
        {
          "output_type": "stream",
          "name": "stdout",
          "text": [
            "Epoch 1/5\n",
            "254/254 [==============================] - ETA: 0s - loss: 0.6075 - balanced_accuracy: 0.8636\n",
            "Epoch 1: val_balanced_accuracy improved from -inf to 0.98161, saving model to checkpoint\n"
          ]
        },
        {
          "output_type": "stream",
          "name": "stderr",
          "text": [
            "WARNING:absl:Found untraced functions such as serving, encoder_layer_call_fn, encoder_layer_call_and_return_conditional_losses, embeddings_layer_call_fn, embeddings_layer_call_and_return_conditional_losses while saving (showing 5 of 423). These functions will not be directly callable after loading.\n"
          ]
        },
        {
          "output_type": "stream",
          "name": "stdout",
          "text": [
            "\b\b\b\b\b\b\b\b\b\b\b\b\b\b\b\b\b\b\b\b\b\b\b\b\b\b\b\b\b\b\b\b\b\b\b\b\b\b\b\b\b\b\b\b\b\b\b\b\b\b\b\b\b\b\b\b\b\b\b\b\b\b\b\b\b\b\b\b\b\b\b\b\b\b\b\b\b\b\b\b\b\b\b\b\b\b\b\b\b\b\b\b\b\r254/254 [==============================] - 285s 1s/step - loss: 0.6075 - balanced_accuracy: 0.8636 - val_loss: 0.1066 - val_balanced_accuracy: 0.9816\n",
            "Epoch 2/5\n",
            "254/254 [==============================] - ETA: 0s - loss: 0.0958 - balanced_accuracy: 0.9823\n",
            "Epoch 2: val_balanced_accuracy improved from 0.98161 to 0.98391, saving model to checkpoint\n"
          ]
        },
        {
          "output_type": "stream",
          "name": "stderr",
          "text": [
            "WARNING:absl:Found untraced functions such as serving, encoder_layer_call_fn, encoder_layer_call_and_return_conditional_losses, embeddings_layer_call_fn, embeddings_layer_call_and_return_conditional_losses while saving (showing 5 of 423). These functions will not be directly callable after loading.\n"
          ]
        },
        {
          "output_type": "stream",
          "name": "stdout",
          "text": [
            "\b\b\b\b\b\b\b\b\b\b\b\b\b\b\b\b\b\b\b\b\b\b\b\b\b\b\b\b\b\b\b\b\b\b\b\b\b\b\b\b\b\b\b\b\b\b\b\b\b\b\b\b\b\b\b\b\b\b\b\b\b\b\b\b\b\b\b\b\b\b\b\b\b\b\b\b\b\b\b\b\b\b\b\b\b\b\b\b\b\b\b\b\b\r254/254 [==============================] - 330s 1s/step - loss: 0.0958 - balanced_accuracy: 0.9823 - val_loss: 0.0853 - val_balanced_accuracy: 0.9839\n",
            "Epoch 3/5\n",
            "254/254 [==============================] - ETA: 0s - loss: 0.0699 - balanced_accuracy: 0.9848\n",
            "Epoch 3: val_balanced_accuracy did not improve from 0.98391\n",
            "254/254 [==============================] - 171s 672ms/step - loss: 0.0699 - balanced_accuracy: 0.9848 - val_loss: 0.0812 - val_balanced_accuracy: 0.9839\n",
            "Epoch 4/5\n",
            "254/254 [==============================] - ETA: 0s - loss: 0.0600 - balanced_accuracy: 0.9874\n",
            "Epoch 4: val_balanced_accuracy did not improve from 0.98391\n",
            "254/254 [==============================] - 171s 672ms/step - loss: 0.0600 - balanced_accuracy: 0.9874 - val_loss: 0.0948 - val_balanced_accuracy: 0.9811\n",
            "Epoch 5/5\n",
            "254/254 [==============================] - ETA: 0s - loss: 0.0411 - balanced_accuracy: 0.9913\n",
            "Epoch 5: val_balanced_accuracy improved from 0.98391 to 0.98483, saving model to checkpoint\n"
          ]
        },
        {
          "output_type": "stream",
          "name": "stderr",
          "text": [
            "WARNING:absl:Found untraced functions such as serving, encoder_layer_call_fn, encoder_layer_call_and_return_conditional_losses, embeddings_layer_call_fn, embeddings_layer_call_and_return_conditional_losses while saving (showing 5 of 423). These functions will not be directly callable after loading.\n"
          ]
        },
        {
          "output_type": "stream",
          "name": "stdout",
          "text": [
            "\b\b\b\b\b\b\b\b\b\b\b\b\b\b\b\b\b\b\b\b\b\b\b\b\b\b\b\b\b\b\b\b\b\b\b\b\b\b\b\b\b\b\b\b\b\b\b\b\b\b\b\b\b\b\b\b\b\b\b\b\b\b\b\b\b\b\b\b\b\b\b\b\b\b\b\b\b\b\b\b\b\b\b\b\b\b\b\b\b\b\b\b\b\r254/254 [==============================] - 385s 2s/step - loss: 0.0411 - balanced_accuracy: 0.9913 - val_loss: 0.0955 - val_balanced_accuracy: 0.9848\n"
          ]
        }
      ]
    },
    {
      "cell_type": "code",
      "source": [
        "X_train['input_ids'].shape"
      ],
      "metadata": {
        "colab": {
          "base_uri": "https://localhost:8080/"
        },
        "id": "U6ctP7uYtJyY",
        "outputId": "44bea648-0000-46ad-9199-fd82da39e8f2"
      },
      "execution_count": 46,
      "outputs": [
        {
          "output_type": "execute_result",
          "data": {
            "text/plain": [
              "TensorShape([5074, 150])"
            ]
          },
          "metadata": {},
          "execution_count": 46
        }
      ]
    },
    {
      "cell_type": "code",
      "source": [
        "X_train['attention_mask'].shape"
      ],
      "metadata": {
        "colab": {
          "base_uri": "https://localhost:8080/"
        },
        "id": "N881je4DtJ93",
        "outputId": "120b03ad-ac86-43cd-eb7f-1716618040a7"
      },
      "execution_count": 47,
      "outputs": [
        {
          "output_type": "execute_result",
          "data": {
            "text/plain": [
              "TensorShape([5074, 150])"
            ]
          },
          "metadata": {},
          "execution_count": 47
        }
      ]
    },
    {
      "cell_type": "code",
      "source": [
        "max_len"
      ],
      "metadata": {
        "colab": {
          "base_uri": "https://localhost:8080/"
        },
        "id": "7DpyYaEEtYJP",
        "outputId": "e0a9b2b0-aace-4782-8881-5cc55c44bbd3"
      },
      "execution_count": 48,
      "outputs": [
        {
          "output_type": "execute_result",
          "data": {
            "text/plain": [
              "125"
            ]
          },
          "metadata": {},
          "execution_count": 48
        }
      ]
    },
    {
      "cell_type": "markdown",
      "source": [
        "## Analyzing the overall performance of trained model"
      ],
      "metadata": {
        "papermill": {
          "duration": 0.244867,
          "end_time": "2022-12-21T00:10:23.870767",
          "exception": false,
          "start_time": "2022-12-21T00:10:23.625900",
          "status": "completed"
        },
        "tags": [],
        "id": "gY-sFGQvCIbN"
      }
    },
    {
      "cell_type": "code",
      "source": [
        "plt.plot(r.history['loss'],'r',label='train loss')\n",
        "plt.plot(r.history['val_loss'],'b',label='test loss')\n",
        "plt.xlabel('No. of Epochs')\n",
        "plt.ylabel('Categorical Crossentropy Loss')\n",
        "plt.title('Loss Graph')\n",
        "plt.legend();"
      ],
      "metadata": {
        "papermill": {
          "duration": 2.17212,
          "end_time": "2022-12-21T00:10:26.345518",
          "exception": false,
          "start_time": "2022-12-21T00:10:24.173398",
          "status": "completed"
        },
        "tags": [],
        "execution": {
          "iopub.status.busy": "2022-12-21T10:43:11.812771Z",
          "iopub.execute_input": "2022-12-21T10:43:11.813156Z",
          "iopub.status.idle": "2022-12-21T10:43:12.081139Z",
          "shell.execute_reply.started": "2022-12-21T10:43:11.813118Z",
          "shell.execute_reply": "2022-12-21T10:43:12.080062Z"
        },
        "trusted": true,
        "colab": {
          "base_uri": "https://localhost:8080/",
          "height": 718
        },
        "id": "hG_gnXQRCIbN",
        "outputId": "d57b0ae2-6fea-4bc9-848d-67615f6626a5"
      },
      "execution_count": 57,
      "outputs": [
        {
          "output_type": "display_data",
          "data": {
            "text/plain": [
              "<Figure size 1200x800 with 1 Axes>"
            ],
            "image/png": "[encoded data removed]"
          },
          "metadata": {}
        }
      ]
    },
    {
      "cell_type": "code",
      "source": [
        "plt.plot(r.history['balanced_accuracy'],'r',label='train balanced accuracy')\n",
        "plt.plot(r.history['val_balanced_accuracy'],'b',label='test balanced accuracy')\n",
        "plt.xlabel('No. of Epochs')\n",
        "plt.ylabel('Categorical Balanced Accuracy')\n",
        "plt.title('Accuracy Graph')\n",
        "plt.legend();"
      ],
      "metadata": {
        "papermill": {
          "duration": 0.55307,
          "end_time": "2022-12-21T00:10:27.169212",
          "exception": false,
          "start_time": "2022-12-21T00:10:26.616142",
          "status": "completed"
        },
        "tags": [],
        "execution": {
          "iopub.status.busy": "2022-12-21T10:43:12.082752Z",
          "iopub.execute_input": "2022-12-21T10:43:12.083427Z",
          "iopub.status.idle": "2022-12-21T10:43:12.343719Z",
          "shell.execute_reply.started": "2022-12-21T10:43:12.083388Z",
          "shell.execute_reply": "2022-12-21T10:43:12.342673Z"
        },
        "trusted": true,
        "colab": {
          "base_uri": "https://localhost:8080/",
          "height": 718
        },
        "id": "4Y3DhsBjCIbN",
        "outputId": "cfbdc81d-9eb8-45dc-9b4f-a72641d531b8"
      },
      "execution_count": 58,
      "outputs": [
        {
          "output_type": "display_data",
          "data": {
            "text/plain": [
              "<Figure size 1200x800 with 1 Axes>"
            ],
            "image/png": "[encoded data removed]"
          },
          "metadata": {}
        }
      ]
    },
    {
      "cell_type": "markdown",
      "source": [
        "## Saving the model"
      ],
      "metadata": {
        "papermill": {
          "duration": 0.257086,
          "end_time": "2022-12-21T00:10:27.694784",
          "exception": false,
          "start_time": "2022-12-21T00:10:27.437698",
          "status": "completed"
        },
        "tags": [],
        "id": "VV_ipoklCIbO"
      }
    },
    {
      "cell_type": "code",
      "source": [
        "model.save('language_detector.h5')"
      ],
      "metadata": {
        "papermill": {
          "duration": 13.209816,
          "end_time": "2022-12-21T00:10:41.155551",
          "exception": false,
          "start_time": "2022-12-21T00:10:27.945735",
          "status": "completed"
        },
        "tags": [],
        "execution": {
          "iopub.status.busy": "2022-12-21T10:43:12.345702Z",
          "iopub.execute_input": "2022-12-21T10:43:12.346445Z",
          "iopub.status.idle": "2022-12-21T10:43:26.907000Z",
          "shell.execute_reply.started": "2022-12-21T10:43:12.346400Z",
          "shell.execute_reply": "2022-12-21T10:43:26.905883Z"
        },
        "trusted": true,
        "id": "9Vt_Ks6kCIbO"
      },
      "execution_count": 59,
      "outputs": []
    },
    {
      "cell_type": "markdown",
      "source": [
        "## Model Evaluation"
      ],
      "metadata": {
        "papermill": {
          "duration": 0.407526,
          "end_time": "2022-12-21T00:10:44.284801",
          "exception": false,
          "start_time": "2022-12-21T00:10:43.877275",
          "status": "completed"
        },
        "tags": [],
        "id": "WXoxXGpSCIbO"
      }
    },
    {
      "cell_type": "code",
      "source": [
        "loss, acc = model.evaluate({'input_ids': X_test['input_ids'], 'attention_mask': X_test['attention_mask']},to_categorical(test_df.Label))\n",
        "print(\"Categorical Cross-entropy Loss:\", loss)\n",
        "print(\"Categorical Accuracy:\", acc)"
      ],
      "metadata": {
        "papermill": {
          "duration": 20.437115,
          "end_time": "2022-12-21T00:11:04.969979",
          "exception": false,
          "start_time": "2022-12-21T00:10:44.532864",
          "status": "completed"
        },
        "tags": [],
        "execution": {
          "iopub.status.busy": "2022-12-21T10:43:26.909717Z",
          "iopub.execute_input": "2022-12-21T10:43:26.910492Z",
          "iopub.status.idle": "2022-12-21T10:43:44.789912Z",
          "shell.execute_reply.started": "2022-12-21T10:43:26.910451Z",
          "shell.execute_reply": "2022-12-21T10:43:44.788763Z"
        },
        "trusted": true,
        "colab": {
          "base_uri": "https://localhost:8080/"
        },
        "id": "LR6kRdLrCIbP",
        "outputId": "7881dda3-fc3c-4870-9e58-83e91f9b2fdd"
      },
      "execution_count": 60,
      "outputs": [
        {
          "output_type": "stream",
          "name": "stdout",
          "text": [
            "68/68 [==============================] - 18s 260ms/step - loss: 0.0955 - balanced_accuracy: 0.9848\n",
            "Categorical Cross-entropy Loss: 0.09545346349477768\n",
            "Categorical Accuracy: 0.9848275780677795\n"
          ]
        }
      ]
    },
    {
      "cell_type": "code",
      "source": [
        "test_predictions = model.predict({'input_ids': X_test['input_ids'], 'attention_mask': X_test['attention_mask']})\n",
        "test_predictions = np.argmax(test_predictions,axis=1)\n",
        "print(\"Confusion Matrix:\")\n",
        "print(confusion_matrix(test_df.Label,test_predictions))\n",
        "print('-----------------------------')\n",
        "print(\"Encoded Labels:\")\n",
        "print(labels_dict)\n",
        "print('-----------------------------')\n",
        "print(\"Classification Report:\")\n",
        "print(classification_report(test_df.Label,test_predictions))"
      ],
      "metadata": {
        "papermill": {
          "duration": 23.29653,
          "end_time": "2022-12-21T00:11:28.530471",
          "exception": false,
          "start_time": "2022-12-21T00:11:05.233941",
          "status": "completed"
        },
        "tags": [],
        "execution": {
          "iopub.status.busy": "2022-12-21T10:46:40.203859Z",
          "iopub.execute_input": "2022-12-21T10:46:40.204259Z",
          "iopub.status.idle": "2022-12-21T10:47:00.733339Z",
          "shell.execute_reply.started": "2022-12-21T10:46:40.204224Z",
          "shell.execute_reply": "2022-12-21T10:47:00.732166Z"
        },
        "trusted": true,
        "colab": {
          "base_uri": "https://localhost:8080/"
        },
        "id": "U6rn55eyCIbP",
        "outputId": "73464568-0046-427a-d802-c2a6da5fad6a"
      },
      "execution_count": 61,
      "outputs": [
        {
          "output_type": "stream",
          "name": "stdout",
          "text": [
            "68/68 [==============================] - 20s 255ms/step\n",
            "Confusion Matrix:\n",
            "[[235   1   1   2   4   0   0   3   0   0]\n",
            " [  0 138   0   1   0   0   2   0   1   0]\n",
            " [  0   0 413   0   1   0   0   1   0   1]\n",
            " [  0   0   2 300   1   0   0   0   1   0]\n",
            " [  2   0   0   0 206   0   0   1   0   0]\n",
            " [  0   0   3   0   0 160   0   0   1   0]\n",
            " [  0   0   0   1   0   0 125   0   0   2]\n",
            " [  0   0   0   1   0   0   0 221   0   0]\n",
            " [  0   0   0   0   0   0   0   0 141   0]\n",
            " [  0   0   0   0   0   0   0   0   0 203]]\n",
            "-----------------------------\n",
            "Encoded Labels:\n",
            "{'Spanish': 0, 'Turkish': 1, 'English': 2, 'French': 3, 'Italian': 4, 'Dutch': 5, 'Danish': 6, 'Portuguese': 7, 'German': 8, 'Swedish': 9}\n",
            "-----------------------------\n",
            "Classification Report:\n",
            "              precision    recall  f1-score   support\n",
            "\n",
            "           0       0.99      0.96      0.97       246\n",
            "           1       0.99      0.97      0.98       142\n",
            "           2       0.99      0.99      0.99       416\n",
            "           3       0.98      0.99      0.99       304\n",
            "           4       0.97      0.99      0.98       209\n",
            "           5       1.00      0.98      0.99       164\n",
            "           6       0.98      0.98      0.98       128\n",
            "           7       0.98      1.00      0.99       222\n",
            "           8       0.98      1.00      0.99       141\n",
            "           9       0.99      1.00      0.99       203\n",
            "\n",
            "    accuracy                           0.98      2175\n",
            "   macro avg       0.99      0.98      0.98      2175\n",
            "weighted avg       0.98      0.98      0.98      2175\n",
            "\n"
          ]
        }
      ]
    },
    {
      "cell_type": "markdown",
      "source": [
        "The results are quite outstanding as the fine-tuned xlm-roberta-base transformer model has produced an amazing f1-score of more than 95% for all the languages.\n",
        "\n",
        "If you adore my work, please don't forget to upvote it!"
      ],
      "metadata": {
        "papermill": {
          "duration": 0.26089,
          "end_time": "2022-12-21T00:11:29.056296",
          "exception": false,
          "start_time": "2022-12-21T00:11:28.795406",
          "status": "completed"
        },
        "tags": [],
        "id": "Bcx9xGbWCIbP"
      }
    }
  ]
}